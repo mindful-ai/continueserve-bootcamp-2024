{
 "cells": [
  {
   "cell_type": "markdown",
   "id": "1f75c1a8",
   "metadata": {},
   "source": [
    "### File Input Output"
   ]
  },
  {
   "cell_type": "markdown",
   "id": "9bbac0df",
   "metadata": {},
   "source": [
    "open(<path>,<mode>), close()\n",
    "mode -> r, w, a, b\n",
    "read: read(), readline(), readlines()\n",
    "write: write(), writelines()\n",
    "other: seek(), tell()"
   ]
  },
  {
   "cell_type": "code",
   "execution_count": 6,
   "id": "b1a71992",
   "metadata": {},
   "outputs": [],
   "source": [
    "path = r\"C:\\Users\\Admin\\Desktop\\arshniv-technologies\\continueserve-bootcamp\\pythonstarter\\14_file_io\\data.txt\""
   ]
  },
  {
   "cell_type": "code",
   "execution_count": 2,
   "id": "a1ad3f6d",
   "metadata": {},
   "outputs": [],
   "source": [
    "p = \"C:\\next\\text\\read\\second\\data.txt\""
   ]
  },
  {
   "cell_type": "code",
   "execution_count": 3,
   "id": "e50e4e37",
   "metadata": {},
   "outputs": [
    {
     "name": "stdout",
     "output_type": "stream",
     "text": [
      "C:\n",
      "ext\text\r",
      "ead\\second\\data.txt\n"
     ]
    }
   ],
   "source": [
    "print(p)"
   ]
  },
  {
   "cell_type": "code",
   "execution_count": 4,
   "id": "2fc18983",
   "metadata": {},
   "outputs": [],
   "source": [
    "p = r\"C:\\next\\text\\read\\second\\data.txt\""
   ]
  },
  {
   "cell_type": "code",
   "execution_count": 5,
   "id": "43ccffaa",
   "metadata": {},
   "outputs": [
    {
     "name": "stdout",
     "output_type": "stream",
     "text": [
      "C:\\next\\text\\read\\second\\data.txt\n"
     ]
    }
   ],
   "source": [
    "print(p)"
   ]
  },
  {
   "cell_type": "markdown",
   "id": "a4651493",
   "metadata": {},
   "source": [
    "### Reading a file"
   ]
  },
  {
   "cell_type": "code",
   "execution_count": 7,
   "id": "e1e5d721",
   "metadata": {},
   "outputs": [],
   "source": [
    "f = open(path, 'r')"
   ]
  },
  {
   "cell_type": "code",
   "execution_count": 8,
   "id": "2b908b44",
   "metadata": {},
   "outputs": [
    {
     "data": {
      "text/plain": [
       "\"I'll smile, I know what it takes to fool this town\\nI'll do it 'til the sun goes down and all through the nighttime\\nOh, yeah\\nOh, yeah, I'll tell you what you wanna hear\\nKeep my sunglasses on while I shed a tear\\nIt's never the right time\\nYeah, yeah\\nI put my armor on, show you how strong I am\\nI put my armor on, I'll show you that I am\\nI'm unstoppable\\nI'm a Porsche with no brakes\\nI'm invincible\\nYeah, I win every single game\\nI'm so powerful\\nI don't need batteries to play\\nI'm so confident\\nYeah, I'm unstoppable today\\nUnstoppable today\\nUnstoppable today\\nUnstoppable today\\nI'm unstoppable today\\nBreak down, only alone I will cry out loud\\nYou'll never see what's hiding out\\nHiding out deep down\\nYeah, yeah\\nI know, I've heard that to let your feelings show\\nIt's the only way to make friendships grow\\nBut I'm too afraid now\\nYeah, yeah\\nI put my armor on, show you how strong I am\\nI put my armor on, I'll show you that I am\\nI'm unstoppable\\nI'm a Porsche with no brakes\\nI'm invincible\\nYeah, I win every single game\\nI'm so powerful\\nI don't need batteries to play\\nI'm so confident\\nYeah, I'm unstoppable today\\nUnstoppable today\\nUnstoppable today\\nUnstoppable today\\nI'm unstoppable today\\nUnstoppable today\\nUnstoppable today\\nUnstoppable today\\nI'm unstoppable today\\nI put my armor on, show you how strong I am\\nI put my armor on, I'll show you that I am\\nI'm unstoppable\\nI'm a Porsche with no brakes\\nI'm invincible\\nYeah, I win every single game\\nI'm so powerful\\nI don't need batteries to play\\nI'm so confident\\nYeah, I'm unstoppable today\\nUnstoppable today\\nUnstoppable today\\nUnstoppable today\\nI'm unstoppable today\\nUnstoppable today\\nUnstoppable today\\nUnstoppable today\\nI'm unstoppable today\""
      ]
     },
     "execution_count": 8,
     "metadata": {},
     "output_type": "execute_result"
    }
   ],
   "source": [
    "content = f.read()\n",
    "content"
   ]
  },
  {
   "cell_type": "code",
   "execution_count": 9,
   "id": "d0640b93",
   "metadata": {},
   "outputs": [
    {
     "data": {
      "text/plain": [
       "str"
      ]
     },
     "execution_count": 9,
     "metadata": {},
     "output_type": "execute_result"
    }
   ],
   "source": [
    "type(content)"
   ]
  },
  {
   "cell_type": "code",
   "execution_count": 10,
   "id": "adb09739",
   "metadata": {},
   "outputs": [
    {
     "data": {
      "text/plain": [
       "15"
      ]
     },
     "execution_count": 10,
     "metadata": {},
     "output_type": "execute_result"
    }
   ],
   "source": [
    "content.count('Unstoppable')"
   ]
  },
  {
   "cell_type": "code",
   "execution_count": 11,
   "id": "c2f4bc9e",
   "metadata": {},
   "outputs": [
    {
     "data": {
      "text/plain": [
       "''"
      ]
     },
     "execution_count": 11,
     "metadata": {},
     "output_type": "execute_result"
    }
   ],
   "source": [
    "f.readline()"
   ]
  },
  {
   "cell_type": "code",
   "execution_count": 12,
   "id": "90a0f51b",
   "metadata": {},
   "outputs": [
    {
     "data": {
      "text/plain": [
       "1734"
      ]
     },
     "execution_count": 12,
     "metadata": {},
     "output_type": "execute_result"
    }
   ],
   "source": [
    "f.tell()"
   ]
  },
  {
   "cell_type": "code",
   "execution_count": 13,
   "id": "4838d353",
   "metadata": {},
   "outputs": [
    {
     "data": {
      "text/plain": [
       "1670"
      ]
     },
     "execution_count": 13,
     "metadata": {},
     "output_type": "execute_result"
    }
   ],
   "source": [
    "len(content)"
   ]
  },
  {
   "cell_type": "code",
   "execution_count": 14,
   "id": "271d6b28",
   "metadata": {},
   "outputs": [
    {
     "data": {
      "text/plain": [
       "0"
      ]
     },
     "execution_count": 14,
     "metadata": {},
     "output_type": "execute_result"
    }
   ],
   "source": [
    "f.seek(0)"
   ]
  },
  {
   "cell_type": "code",
   "execution_count": 15,
   "id": "abab7f06",
   "metadata": {},
   "outputs": [
    {
     "data": {
      "text/plain": [
       "\"I'll smile, I know what it takes to fool this town\\n\""
      ]
     },
     "execution_count": 15,
     "metadata": {},
     "output_type": "execute_result"
    }
   ],
   "source": [
    "f.readline()"
   ]
  },
  {
   "cell_type": "code",
   "execution_count": 16,
   "id": "e6ddc705",
   "metadata": {},
   "outputs": [
    {
     "data": {
      "text/plain": [
       "\"I'll do it 'til the sun goes down and all through the nighttime\\n\""
      ]
     },
     "execution_count": 16,
     "metadata": {},
     "output_type": "execute_result"
    }
   ],
   "source": [
    "f.readline()"
   ]
  },
  {
   "cell_type": "code",
   "execution_count": 17,
   "id": "e6947b70",
   "metadata": {},
   "outputs": [
    {
     "data": {
      "text/plain": [
       "\"Oh, yeah\\nOh, yeah, I'll tell you what you wanna hear\\nKeep my sunglasses on while I shed a tear\\nIt's \""
      ]
     },
     "execution_count": 17,
     "metadata": {},
     "output_type": "execute_result"
    }
   ],
   "source": [
    "f.read(100)"
   ]
  },
  {
   "cell_type": "code",
   "execution_count": 18,
   "id": "8b65531d",
   "metadata": {},
   "outputs": [
    {
     "data": {
      "text/plain": [
       "0"
      ]
     },
     "execution_count": 18,
     "metadata": {},
     "output_type": "execute_result"
    }
   ],
   "source": [
    "f.seek(0)"
   ]
  },
  {
   "cell_type": "code",
   "execution_count": 19,
   "id": "de65745c",
   "metadata": {},
   "outputs": [],
   "source": [
    "arr = f.readlines()\n"
   ]
  },
  {
   "cell_type": "code",
   "execution_count": 20,
   "id": "3c105563",
   "metadata": {},
   "outputs": [
    {
     "data": {
      "text/plain": [
       "[\"I'll smile, I know what it takes to fool this town\\n\",\n",
       " \"I'll do it 'til the sun goes down and all through the nighttime\\n\",\n",
       " 'Oh, yeah\\n',\n",
       " \"Oh, yeah, I'll tell you what you wanna hear\\n\",\n",
       " 'Keep my sunglasses on while I shed a tear\\n',\n",
       " \"It's never the right time\\n\",\n",
       " 'Yeah, yeah\\n',\n",
       " 'I put my armor on, show you how strong I am\\n',\n",
       " \"I put my armor on, I'll show you that I am\\n\",\n",
       " \"I'm unstoppable\\n\",\n",
       " \"I'm a Porsche with no brakes\\n\",\n",
       " \"I'm invincible\\n\",\n",
       " 'Yeah, I win every single game\\n',\n",
       " \"I'm so powerful\\n\",\n",
       " \"I don't need batteries to play\\n\",\n",
       " \"I'm so confident\\n\",\n",
       " \"Yeah, I'm unstoppable today\\n\",\n",
       " 'Unstoppable today\\n',\n",
       " 'Unstoppable today\\n',\n",
       " 'Unstoppable today\\n',\n",
       " \"I'm unstoppable today\\n\",\n",
       " 'Break down, only alone I will cry out loud\\n',\n",
       " \"You'll never see what's hiding out\\n\",\n",
       " 'Hiding out deep down\\n',\n",
       " 'Yeah, yeah\\n',\n",
       " \"I know, I've heard that to let your feelings show\\n\",\n",
       " \"It's the only way to make friendships grow\\n\",\n",
       " \"But I'm too afraid now\\n\",\n",
       " 'Yeah, yeah\\n',\n",
       " 'I put my armor on, show you how strong I am\\n',\n",
       " \"I put my armor on, I'll show you that I am\\n\",\n",
       " \"I'm unstoppable\\n\",\n",
       " \"I'm a Porsche with no brakes\\n\",\n",
       " \"I'm invincible\\n\",\n",
       " 'Yeah, I win every single game\\n',\n",
       " \"I'm so powerful\\n\",\n",
       " \"I don't need batteries to play\\n\",\n",
       " \"I'm so confident\\n\",\n",
       " \"Yeah, I'm unstoppable today\\n\",\n",
       " 'Unstoppable today\\n',\n",
       " 'Unstoppable today\\n',\n",
       " 'Unstoppable today\\n',\n",
       " \"I'm unstoppable today\\n\",\n",
       " 'Unstoppable today\\n',\n",
       " 'Unstoppable today\\n',\n",
       " 'Unstoppable today\\n',\n",
       " \"I'm unstoppable today\\n\",\n",
       " 'I put my armor on, show you how strong I am\\n',\n",
       " \"I put my armor on, I'll show you that I am\\n\",\n",
       " \"I'm unstoppable\\n\",\n",
       " \"I'm a Porsche with no brakes\\n\",\n",
       " \"I'm invincible\\n\",\n",
       " 'Yeah, I win every single game\\n',\n",
       " \"I'm so powerful\\n\",\n",
       " \"I don't need batteries to play\\n\",\n",
       " \"I'm so confident\\n\",\n",
       " \"Yeah, I'm unstoppable today\\n\",\n",
       " 'Unstoppable today\\n',\n",
       " 'Unstoppable today\\n',\n",
       " 'Unstoppable today\\n',\n",
       " \"I'm unstoppable today\\n\",\n",
       " 'Unstoppable today\\n',\n",
       " 'Unstoppable today\\n',\n",
       " 'Unstoppable today\\n',\n",
       " \"I'm unstoppable today\"]"
      ]
     },
     "execution_count": 20,
     "metadata": {},
     "output_type": "execute_result"
    }
   ],
   "source": [
    "arr"
   ]
  },
  {
   "cell_type": "code",
   "execution_count": 21,
   "id": "97b70605",
   "metadata": {},
   "outputs": [
    {
     "data": {
      "text/plain": [
       "[\"I'm unstoppable today\",\n",
       " 'Unstoppable today\\n',\n",
       " 'Unstoppable today\\n',\n",
       " 'Unstoppable today\\n',\n",
       " \"I'm unstoppable today\\n\",\n",
       " 'Unstoppable today\\n',\n",
       " 'Unstoppable today\\n',\n",
       " 'Unstoppable today\\n',\n",
       " \"Yeah, I'm unstoppable today\\n\",\n",
       " \"I'm so confident\\n\",\n",
       " \"I don't need batteries to play\\n\",\n",
       " \"I'm so powerful\\n\",\n",
       " 'Yeah, I win every single game\\n',\n",
       " \"I'm invincible\\n\",\n",
       " \"I'm a Porsche with no brakes\\n\",\n",
       " \"I'm unstoppable\\n\",\n",
       " \"I put my armor on, I'll show you that I am\\n\",\n",
       " 'I put my armor on, show you how strong I am\\n',\n",
       " \"I'm unstoppable today\\n\",\n",
       " 'Unstoppable today\\n',\n",
       " 'Unstoppable today\\n',\n",
       " 'Unstoppable today\\n',\n",
       " \"I'm unstoppable today\\n\",\n",
       " 'Unstoppable today\\n',\n",
       " 'Unstoppable today\\n',\n",
       " 'Unstoppable today\\n',\n",
       " \"Yeah, I'm unstoppable today\\n\",\n",
       " \"I'm so confident\\n\",\n",
       " \"I don't need batteries to play\\n\",\n",
       " \"I'm so powerful\\n\",\n",
       " 'Yeah, I win every single game\\n',\n",
       " \"I'm invincible\\n\",\n",
       " \"I'm a Porsche with no brakes\\n\",\n",
       " \"I'm unstoppable\\n\",\n",
       " \"I put my armor on, I'll show you that I am\\n\",\n",
       " 'I put my armor on, show you how strong I am\\n',\n",
       " 'Yeah, yeah\\n',\n",
       " \"But I'm too afraid now\\n\",\n",
       " \"It's the only way to make friendships grow\\n\",\n",
       " \"I know, I've heard that to let your feelings show\\n\",\n",
       " 'Yeah, yeah\\n',\n",
       " 'Hiding out deep down\\n',\n",
       " \"You'll never see what's hiding out\\n\",\n",
       " 'Break down, only alone I will cry out loud\\n',\n",
       " \"I'm unstoppable today\\n\",\n",
       " 'Unstoppable today\\n',\n",
       " 'Unstoppable today\\n',\n",
       " 'Unstoppable today\\n',\n",
       " \"Yeah, I'm unstoppable today\\n\",\n",
       " \"I'm so confident\\n\",\n",
       " \"I don't need batteries to play\\n\",\n",
       " \"I'm so powerful\\n\",\n",
       " 'Yeah, I win every single game\\n',\n",
       " \"I'm invincible\\n\",\n",
       " \"I'm a Porsche with no brakes\\n\",\n",
       " \"I'm unstoppable\\n\",\n",
       " \"I put my armor on, I'll show you that I am\\n\",\n",
       " 'I put my armor on, show you how strong I am\\n',\n",
       " 'Yeah, yeah\\n',\n",
       " \"It's never the right time\\n\",\n",
       " 'Keep my sunglasses on while I shed a tear\\n',\n",
       " \"Oh, yeah, I'll tell you what you wanna hear\\n\",\n",
       " 'Oh, yeah\\n',\n",
       " \"I'll do it 'til the sun goes down and all through the nighttime\\n\",\n",
       " \"I'll smile, I know what it takes to fool this town\\n\"]"
      ]
     },
     "execution_count": 21,
     "metadata": {},
     "output_type": "execute_result"
    }
   ],
   "source": [
    "arr[::-1]"
   ]
  },
  {
   "cell_type": "code",
   "execution_count": 22,
   "id": "562dde6e",
   "metadata": {},
   "outputs": [],
   "source": [
    "f.close()"
   ]
  },
  {
   "cell_type": "markdown",
   "id": "3dcb08e7",
   "metadata": {},
   "source": [
    "### Writing into Files"
   ]
  },
  {
   "cell_type": "code",
   "execution_count": 23,
   "id": "3fbc823b",
   "metadata": {},
   "outputs": [],
   "source": [
    "f = open('data2.txt', 'w')"
   ]
  },
  {
   "cell_type": "code",
   "execution_count": 24,
   "id": "794db7ef",
   "metadata": {},
   "outputs": [
    {
     "data": {
      "text/plain": [
       "17"
      ]
     },
     "execution_count": 24,
     "metadata": {},
     "output_type": "execute_result"
    }
   ],
   "source": [
    "f.write(\"UNSTOPPABLE - Sia\")"
   ]
  },
  {
   "cell_type": "code",
   "execution_count": 25,
   "id": "3094444e",
   "metadata": {},
   "outputs": [
    {
     "data": {
      "text/plain": [
       "37"
      ]
     },
     "execution_count": 25,
     "metadata": {},
     "output_type": "execute_result"
    }
   ],
   "source": [
    "f.write('\\n-----------------------------------\\n')"
   ]
  },
  {
   "cell_type": "code",
   "execution_count": 26,
   "id": "d5e9df85",
   "metadata": {},
   "outputs": [],
   "source": [
    "f.close()"
   ]
  },
  {
   "cell_type": "code",
   "execution_count": 27,
   "id": "1f0cf470",
   "metadata": {},
   "outputs": [],
   "source": [
    "arr2 = []\n",
    "for line in arr:\n",
    "    arr2.append(line.upper())"
   ]
  },
  {
   "cell_type": "code",
   "execution_count": 28,
   "id": "540a2409",
   "metadata": {},
   "outputs": [
    {
     "data": {
      "text/plain": [
       "\"IT'S NEVER THE RIGHT TIME\\n\""
      ]
     },
     "execution_count": 28,
     "metadata": {},
     "output_type": "execute_result"
    }
   ],
   "source": [
    "arr2[5]"
   ]
  },
  {
   "cell_type": "code",
   "execution_count": 29,
   "id": "7530f21f",
   "metadata": {},
   "outputs": [],
   "source": [
    "f = open('data2.txt', 'a')"
   ]
  },
  {
   "cell_type": "code",
   "execution_count": 30,
   "id": "b4b829ea",
   "metadata": {},
   "outputs": [],
   "source": [
    "f.writelines(arr2)"
   ]
  },
  {
   "cell_type": "code",
   "execution_count": 31,
   "id": "65c64ab8",
   "metadata": {},
   "outputs": [],
   "source": [
    "f.close()"
   ]
  },
  {
   "cell_type": "markdown",
   "id": "09dad586",
   "metadata": {},
   "source": [
    "### Word Histogram"
   ]
  },
  {
   "cell_type": "code",
   "execution_count": 34,
   "id": "5801663c",
   "metadata": {},
   "outputs": [
    {
     "data": {
      "text/plain": [
       "[\"I'll\",\n",
       " 'smile,',\n",
       " 'I',\n",
       " 'know',\n",
       " 'what',\n",
       " 'it',\n",
       " 'takes',\n",
       " 'to',\n",
       " 'fool',\n",
       " 'this',\n",
       " 'town',\n",
       " \"I'll\",\n",
       " 'do',\n",
       " 'it',\n",
       " \"'til\",\n",
       " 'the',\n",
       " 'sun',\n",
       " 'goes',\n",
       " 'down',\n",
       " 'and',\n",
       " 'all',\n",
       " 'through',\n",
       " 'the',\n",
       " 'nighttime',\n",
       " 'Oh,',\n",
       " 'yeah',\n",
       " 'Oh,',\n",
       " 'yeah,',\n",
       " \"I'll\",\n",
       " 'tell',\n",
       " 'you',\n",
       " 'what',\n",
       " 'you',\n",
       " 'wanna',\n",
       " 'hear',\n",
       " 'Keep',\n",
       " 'my',\n",
       " 'sunglasses',\n",
       " 'on',\n",
       " 'while',\n",
       " 'I',\n",
       " 'shed',\n",
       " 'a',\n",
       " 'tear',\n",
       " \"It's\",\n",
       " 'never',\n",
       " 'the',\n",
       " 'right',\n",
       " 'time',\n",
       " 'Yeah,',\n",
       " 'yeah',\n",
       " 'I',\n",
       " 'put',\n",
       " 'my',\n",
       " 'armor',\n",
       " 'on,',\n",
       " 'show',\n",
       " 'you',\n",
       " 'how',\n",
       " 'strong',\n",
       " 'I',\n",
       " 'am',\n",
       " 'I',\n",
       " 'put',\n",
       " 'my',\n",
       " 'armor',\n",
       " 'on,',\n",
       " \"I'll\",\n",
       " 'show',\n",
       " 'you',\n",
       " 'that',\n",
       " 'I',\n",
       " 'am',\n",
       " \"I'm\",\n",
       " 'unstoppable',\n",
       " \"I'm\",\n",
       " 'a',\n",
       " 'Porsche',\n",
       " 'with',\n",
       " 'no',\n",
       " 'brakes',\n",
       " \"I'm\",\n",
       " 'invincible',\n",
       " 'Yeah,',\n",
       " 'I',\n",
       " 'win',\n",
       " 'every',\n",
       " 'single',\n",
       " 'game',\n",
       " \"I'm\",\n",
       " 'so',\n",
       " 'powerful',\n",
       " 'I',\n",
       " \"don't\",\n",
       " 'need',\n",
       " 'batteries',\n",
       " 'to',\n",
       " 'play',\n",
       " \"I'm\",\n",
       " 'so',\n",
       " 'confident',\n",
       " 'Yeah,',\n",
       " \"I'm\",\n",
       " 'unstoppable',\n",
       " 'today',\n",
       " 'Unstoppable',\n",
       " 'today',\n",
       " 'Unstoppable',\n",
       " 'today',\n",
       " 'Unstoppable',\n",
       " 'today',\n",
       " \"I'm\",\n",
       " 'unstoppable',\n",
       " 'today',\n",
       " 'Break',\n",
       " 'down,',\n",
       " 'only',\n",
       " 'alone',\n",
       " 'I',\n",
       " 'will',\n",
       " 'cry',\n",
       " 'out',\n",
       " 'loud',\n",
       " \"You'll\",\n",
       " 'never',\n",
       " 'see',\n",
       " \"what's\",\n",
       " 'hiding',\n",
       " 'out',\n",
       " 'Hiding',\n",
       " 'out',\n",
       " 'deep',\n",
       " 'down',\n",
       " 'Yeah,',\n",
       " 'yeah',\n",
       " 'I',\n",
       " 'know,',\n",
       " \"I've\",\n",
       " 'heard',\n",
       " 'that',\n",
       " 'to',\n",
       " 'let',\n",
       " 'your',\n",
       " 'feelings',\n",
       " 'show',\n",
       " \"It's\",\n",
       " 'the',\n",
       " 'only',\n",
       " 'way',\n",
       " 'to',\n",
       " 'make',\n",
       " 'friendships',\n",
       " 'grow',\n",
       " 'But',\n",
       " \"I'm\",\n",
       " 'too',\n",
       " 'afraid',\n",
       " 'now',\n",
       " 'Yeah,',\n",
       " 'yeah',\n",
       " 'I',\n",
       " 'put',\n",
       " 'my',\n",
       " 'armor',\n",
       " 'on,',\n",
       " 'show',\n",
       " 'you',\n",
       " 'how',\n",
       " 'strong',\n",
       " 'I',\n",
       " 'am',\n",
       " 'I',\n",
       " 'put',\n",
       " 'my',\n",
       " 'armor',\n",
       " 'on,',\n",
       " \"I'll\",\n",
       " 'show',\n",
       " 'you',\n",
       " 'that',\n",
       " 'I',\n",
       " 'am',\n",
       " \"I'm\",\n",
       " 'unstoppable',\n",
       " \"I'm\",\n",
       " 'a',\n",
       " 'Porsche',\n",
       " 'with',\n",
       " 'no',\n",
       " 'brakes',\n",
       " \"I'm\",\n",
       " 'invincible',\n",
       " 'Yeah,',\n",
       " 'I',\n",
       " 'win',\n",
       " 'every',\n",
       " 'single',\n",
       " 'game',\n",
       " \"I'm\",\n",
       " 'so',\n",
       " 'powerful',\n",
       " 'I',\n",
       " \"don't\",\n",
       " 'need',\n",
       " 'batteries',\n",
       " 'to',\n",
       " 'play',\n",
       " \"I'm\",\n",
       " 'so',\n",
       " 'confident',\n",
       " 'Yeah,',\n",
       " \"I'm\",\n",
       " 'unstoppable',\n",
       " 'today',\n",
       " 'Unstoppable',\n",
       " 'today',\n",
       " 'Unstoppable',\n",
       " 'today',\n",
       " 'Unstoppable',\n",
       " 'today',\n",
       " \"I'm\",\n",
       " 'unstoppable',\n",
       " 'today',\n",
       " 'Unstoppable',\n",
       " 'today',\n",
       " 'Unstoppable',\n",
       " 'today',\n",
       " 'Unstoppable',\n",
       " 'today',\n",
       " \"I'm\",\n",
       " 'unstoppable',\n",
       " 'today',\n",
       " 'I',\n",
       " 'put',\n",
       " 'my',\n",
       " 'armor',\n",
       " 'on,',\n",
       " 'show',\n",
       " 'you',\n",
       " 'how',\n",
       " 'strong',\n",
       " 'I',\n",
       " 'am',\n",
       " 'I',\n",
       " 'put',\n",
       " 'my',\n",
       " 'armor',\n",
       " 'on,',\n",
       " \"I'll\",\n",
       " 'show',\n",
       " 'you',\n",
       " 'that',\n",
       " 'I',\n",
       " 'am',\n",
       " \"I'm\",\n",
       " 'unstoppable',\n",
       " \"I'm\",\n",
       " 'a',\n",
       " 'Porsche',\n",
       " 'with',\n",
       " 'no',\n",
       " 'brakes',\n",
       " \"I'm\",\n",
       " 'invincible',\n",
       " 'Yeah,',\n",
       " 'I',\n",
       " 'win',\n",
       " 'every',\n",
       " 'single',\n",
       " 'game',\n",
       " \"I'm\",\n",
       " 'so',\n",
       " 'powerful',\n",
       " 'I',\n",
       " \"don't\",\n",
       " 'need',\n",
       " 'batteries',\n",
       " 'to',\n",
       " 'play',\n",
       " \"I'm\",\n",
       " 'so',\n",
       " 'confident',\n",
       " 'Yeah,',\n",
       " \"I'm\",\n",
       " 'unstoppable',\n",
       " 'today',\n",
       " 'Unstoppable',\n",
       " 'today',\n",
       " 'Unstoppable',\n",
       " 'today',\n",
       " 'Unstoppable',\n",
       " 'today',\n",
       " \"I'm\",\n",
       " 'unstoppable',\n",
       " 'today',\n",
       " 'Unstoppable',\n",
       " 'today',\n",
       " 'Unstoppable',\n",
       " 'today',\n",
       " 'Unstoppable',\n",
       " 'today',\n",
       " \"I'm\",\n",
       " 'unstoppable',\n",
       " 'today']"
      ]
     },
     "execution_count": 34,
     "metadata": {},
     "output_type": "execute_result"
    }
   ],
   "source": [
    "words = content.split()\n",
    "words"
   ]
  },
  {
   "cell_type": "code",
   "execution_count": 35,
   "id": "8f957555",
   "metadata": {},
   "outputs": [
    {
     "name": "stdout",
     "output_type": "stream",
     "text": [
      "                I'll | 6    \n",
      "              smile, | 1    \n",
      "                   I | 22   \n",
      "                know | 1    \n",
      "                what | 2    \n",
      "                  it | 2    \n",
      "               takes | 1    \n",
      "                  to | 6    \n",
      "                fool | 1    \n",
      "                this | 1    \n",
      "                town | 1    \n",
      "                  do | 1    \n",
      "                'til | 1    \n",
      "                 the | 4    \n",
      "                 sun | 1    \n",
      "                goes | 1    \n",
      "                down | 2    \n",
      "                 and | 1    \n",
      "                 all | 1    \n",
      "             through | 1    \n",
      "           nighttime | 1    \n",
      "                 Oh, | 2    \n",
      "                yeah | 4    \n",
      "               yeah, | 1    \n",
      "                tell | 1    \n",
      "                 you | 8    \n",
      "               wanna | 1    \n",
      "                hear | 1    \n",
      "                Keep | 1    \n",
      "                  my | 7    \n",
      "          sunglasses | 1    \n",
      "                  on | 1    \n",
      "               while | 1    \n",
      "                shed | 1    \n",
      "                   a | 4    \n",
      "                tear | 1    \n",
      "                It's | 2    \n",
      "               never | 2    \n",
      "               right | 1    \n",
      "                time | 1    \n",
      "               Yeah, | 9    \n",
      "                 put | 6    \n",
      "               armor | 6    \n",
      "                 on, | 6    \n",
      "                show | 7    \n",
      "                 how | 3    \n",
      "              strong | 3    \n",
      "                  am | 6    \n",
      "                that | 4    \n",
      "                 I'm | 24   \n",
      "         unstoppable | 11   \n",
      "             Porsche | 3    \n",
      "                with | 3    \n",
      "                  no | 3    \n",
      "              brakes | 3    \n",
      "          invincible | 3    \n",
      "                 win | 3    \n",
      "               every | 3    \n",
      "              single | 3    \n",
      "                game | 3    \n",
      "                  so | 6    \n",
      "            powerful | 3    \n",
      "               don't | 3    \n",
      "                need | 3    \n",
      "           batteries | 3    \n",
      "                play | 3    \n",
      "           confident | 3    \n",
      "               today | 23   \n",
      "         Unstoppable | 15   \n",
      "               Break | 1    \n",
      "               down, | 1    \n",
      "                only | 2    \n",
      "               alone | 1    \n",
      "                will | 1    \n",
      "                 cry | 1    \n",
      "                 out | 3    \n",
      "                loud | 1    \n",
      "              You'll | 1    \n",
      "                 see | 1    \n",
      "              what's | 1    \n",
      "              hiding | 1    \n",
      "              Hiding | 1    \n",
      "                deep | 1    \n",
      "               know, | 1    \n",
      "                I've | 1    \n",
      "               heard | 1    \n",
      "                 let | 1    \n",
      "                your | 1    \n",
      "            feelings | 1    \n",
      "                 way | 1    \n",
      "                make | 1    \n",
      "         friendships | 1    \n",
      "                grow | 1    \n",
      "                 But | 1    \n",
      "                 too | 1    \n",
      "              afraid | 1    \n",
      "                 now | 1    \n"
     ]
    }
   ],
   "source": [
    "wordhist = {}\n",
    "for word in words:\n",
    "    if(word in wordhist):\n",
    "        wordhist[word] = wordhist[word] + 1\n",
    "    else:\n",
    "        wordhist[word] = 1\n",
    "        \n",
    "for k, v in wordhist.items():\n",
    "    print(k.rjust(20), '|', str(v).ljust(5))"
   ]
  },
  {
   "cell_type": "code",
   "execution_count": null,
   "id": "a8f34fc2",
   "metadata": {},
   "outputs": [],
   "source": []
  }
 ],
 "metadata": {
  "kernelspec": {
   "display_name": "Python 3 (ipykernel)",
   "language": "python",
   "name": "python3"
  },
  "language_info": {
   "codemirror_mode": {
    "name": "ipython",
    "version": 3
   },
   "file_extension": ".py",
   "mimetype": "text/x-python",
   "name": "python",
   "nbconvert_exporter": "python",
   "pygments_lexer": "ipython3",
   "version": "3.9.12"
  }
 },
 "nbformat": 4,
 "nbformat_minor": 5
}

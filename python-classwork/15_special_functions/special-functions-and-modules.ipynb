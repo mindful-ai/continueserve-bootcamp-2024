{
 "cells": [
  {
   "cell_type": "markdown",
   "id": "d4ab7ddf",
   "metadata": {},
   "source": [
    "### 1. Lambda Functions"
   ]
  },
  {
   "cell_type": "code",
   "execution_count": 1,
   "id": "510a8afc",
   "metadata": {},
   "outputs": [],
   "source": [
    "f = lambda a, b : a + b"
   ]
  },
  {
   "cell_type": "code",
   "execution_count": 2,
   "id": "c0b217ca",
   "metadata": {},
   "outputs": [
    {
     "data": {
      "text/plain": [
       "function"
      ]
     },
     "execution_count": 2,
     "metadata": {},
     "output_type": "execute_result"
    }
   ],
   "source": [
    "type(f)"
   ]
  },
  {
   "cell_type": "code",
   "execution_count": 3,
   "id": "e40739a1",
   "metadata": {},
   "outputs": [
    {
     "data": {
      "text/plain": [
       "40"
      ]
     },
     "execution_count": 3,
     "metadata": {},
     "output_type": "execute_result"
    }
   ],
   "source": [
    "f(10, 30)"
   ]
  },
  {
   "cell_type": "code",
   "execution_count": 4,
   "id": "6c133ea9",
   "metadata": {},
   "outputs": [
    {
     "data": {
      "text/plain": [
       "'abcdef'"
      ]
     },
     "execution_count": 4,
     "metadata": {},
     "output_type": "execute_result"
    }
   ],
   "source": [
    "f(\"abc\", \"def\")"
   ]
  },
  {
   "cell_type": "markdown",
   "id": "cdb30c7c",
   "metadata": {},
   "source": [
    "### 2. The map() Function"
   ]
  },
  {
   "cell_type": "code",
   "execution_count": 5,
   "id": "c7b09df3",
   "metadata": {},
   "outputs": [
    {
     "data": {
      "text/plain": [
       "[50.0, 68.0, 104.0, 150.8, 212.0]"
      ]
     },
     "execution_count": 5,
     "metadata": {},
     "output_type": "execute_result"
    }
   ],
   "source": [
    "T = [10, 20, 40, 66, 100]\n",
    "F = []\n",
    "for v in T:\n",
    "    F.append(v * 1.8 + 32)\n",
    "F"
   ]
  },
  {
   "cell_type": "code",
   "execution_count": 7,
   "id": "b9bcf8b9",
   "metadata": {},
   "outputs": [
    {
     "data": {
      "text/plain": [
       "[50.0, 68.0, 104.0, 150.8, 212.0]"
      ]
     },
     "execution_count": 7,
     "metadata": {},
     "output_type": "execute_result"
    }
   ],
   "source": [
    "F1 = map(lambda c : c * 1.8 + 32, T)\n",
    "list(F1)"
   ]
  },
  {
   "cell_type": "markdown",
   "id": "35e70239",
   "metadata": {},
   "source": [
    "### 3. The filter() Function"
   ]
  },
  {
   "cell_type": "code",
   "execution_count": 10,
   "id": "b11c6fe9",
   "metadata": {},
   "outputs": [],
   "source": [
    "N = list(range(10, 100))"
   ]
  },
  {
   "cell_type": "code",
   "execution_count": 11,
   "id": "b02b0219",
   "metadata": {},
   "outputs": [
    {
     "data": {
      "text/plain": [
       "[18, 27, 36, 45, 54, 63, 72, 81, 90]"
      ]
     },
     "execution_count": 11,
     "metadata": {},
     "output_type": "execute_result"
    }
   ],
   "source": [
    "N1 = []\n",
    "for n in N:\n",
    "    if( int(str(n)[1]) + int(str(n)[0]) == 9 ):\n",
    "        N1.append(n)\n",
    "N1"
   ]
  },
  {
   "cell_type": "code",
   "execution_count": 13,
   "id": "3ca84ff0",
   "metadata": {},
   "outputs": [
    {
     "data": {
      "text/plain": [
       "[18, 27, 36, 45, 54, 63, 72, 81, 90]"
      ]
     },
     "execution_count": 13,
     "metadata": {},
     "output_type": "execute_result"
    }
   ],
   "source": [
    "N2 = filter(lambda n : (int(str(n)[1]) + int(str(n)[0]) == 9), N)\n",
    "list(N2)"
   ]
  },
  {
   "cell_type": "markdown",
   "id": "920cbeea",
   "metadata": {},
   "source": [
    "### Exercise"
   ]
  },
  {
   "cell_type": "code",
   "execution_count": 14,
   "id": "31983131",
   "metadata": {},
   "outputs": [],
   "source": [
    "S = ['apples', 'bananas', 'cherries']"
   ]
  },
  {
   "cell_type": "code",
   "execution_count": 19,
   "id": "6b6537bb",
   "metadata": {},
   "outputs": [],
   "source": [
    "L = map(str.upper, S)"
   ]
  },
  {
   "cell_type": "code",
   "execution_count": 20,
   "id": "5c70c233",
   "metadata": {},
   "outputs": [
    {
     "data": {
      "text/plain": [
       "['APPLES', 'BANANAS', 'CHERRIES']"
      ]
     },
     "execution_count": 20,
     "metadata": {},
     "output_type": "execute_result"
    }
   ],
   "source": [
    "list(L)"
   ]
  },
  {
   "cell_type": "code",
   "execution_count": 22,
   "id": "37cabc60",
   "metadata": {},
   "outputs": [
    {
     "data": {
      "text/plain": [
       "[str, str, str]"
      ]
     },
     "execution_count": 22,
     "metadata": {},
     "output_type": "execute_result"
    }
   ],
   "source": [
    "T = map(type, S)\n",
    "list(T)"
   ]
  },
  {
   "cell_type": "markdown",
   "id": "5cda1d45",
   "metadata": {},
   "source": [
    "### 4. The sort() Function"
   ]
  },
  {
   "cell_type": "code",
   "execution_count": 23,
   "id": "42f05abc",
   "metadata": {},
   "outputs": [],
   "source": [
    "L = [\"red\", \"green\", \"blue\", \"yellow\"]"
   ]
  },
  {
   "cell_type": "code",
   "execution_count": 25,
   "id": "5b138cc5",
   "metadata": {},
   "outputs": [
    {
     "data": {
      "text/plain": [
       "['blue', 'green', 'red', 'yellow']"
      ]
     },
     "execution_count": 25,
     "metadata": {},
     "output_type": "execute_result"
    }
   ],
   "source": [
    "L.sort()\n",
    "L"
   ]
  },
  {
   "cell_type": "code",
   "execution_count": 26,
   "id": "35971729",
   "metadata": {},
   "outputs": [
    {
     "data": {
      "text/plain": [
       "['yellow', 'red', 'green', 'blue']"
      ]
     },
     "execution_count": 26,
     "metadata": {},
     "output_type": "execute_result"
    }
   ],
   "source": [
    "L.sort(reverse=True)\n",
    "L"
   ]
  },
  {
   "cell_type": "code",
   "execution_count": 27,
   "id": "4de1e830",
   "metadata": {},
   "outputs": [
    {
     "data": {
      "text/plain": [
       "['red', 'blue', 'green', 'yellow']"
      ]
     },
     "execution_count": 27,
     "metadata": {},
     "output_type": "execute_result"
    }
   ],
   "source": [
    "L.sort(key=lambda item : item[-1])\n",
    "L"
   ]
  },
  {
   "cell_type": "markdown",
   "id": "066a5637",
   "metadata": {},
   "source": [
    "### Exercise"
   ]
  },
  {
   "cell_type": "code",
   "execution_count": 28,
   "id": "b797f44b",
   "metadata": {},
   "outputs": [],
   "source": [
    "items = [(\"apples\", 5), (\"cherries\", 1), (\"bananas\", 3)]"
   ]
  },
  {
   "cell_type": "code",
   "execution_count": 30,
   "id": "5e362f21",
   "metadata": {},
   "outputs": [
    {
     "data": {
      "text/plain": [
       "[('apples', 5), ('bananas', 3), ('cherries', 1)]"
      ]
     },
     "execution_count": 30,
     "metadata": {},
     "output_type": "execute_result"
    }
   ],
   "source": [
    "items.sort()\n",
    "items"
   ]
  },
  {
   "cell_type": "code",
   "execution_count": 31,
   "id": "1d0d0ca9",
   "metadata": {},
   "outputs": [
    {
     "data": {
      "text/plain": [
       "[('cherries', 1), ('bananas', 3), ('apples', 5)]"
      ]
     },
     "execution_count": 31,
     "metadata": {},
     "output_type": "execute_result"
    }
   ],
   "source": [
    "items.sort(key=lambda i : i[1])\n",
    "items"
   ]
  },
  {
   "cell_type": "code",
   "execution_count": 36,
   "id": "e2e280c5",
   "metadata": {},
   "outputs": [
    {
     "data": {
      "text/plain": [
       "[('cherries', 1), ('bananas', 3), ('apples', 5)]"
      ]
     },
     "execution_count": 36,
     "metadata": {},
     "output_type": "execute_result"
    }
   ],
   "source": [
    "items.sort(key=lambda i : i[0][-1])\n",
    "items"
   ]
  },
  {
   "cell_type": "code",
   "execution_count": 35,
   "id": "fd7319c8",
   "metadata": {},
   "outputs": [
    {
     "data": {
      "text/plain": [
       "['anmber', 'annts', 'anpples']"
      ]
     },
     "execution_count": 35,
     "metadata": {},
     "output_type": "execute_result"
    }
   ],
   "source": [
    "L = [\"anpples\", \"annts\", \"anmber\"]\n",
    "L.sort()\n",
    "L"
   ]
  },
  {
   "cell_type": "markdown",
   "id": "a408776e",
   "metadata": {},
   "source": [
    "### 5. The zip() Function"
   ]
  },
  {
   "cell_type": "code",
   "execution_count": 37,
   "id": "4ad2fa02",
   "metadata": {},
   "outputs": [],
   "source": [
    "T1 = (\"red\", \"green\", \"blue\")\n",
    "T2 = (\"c1\", \"c2\", \"c3\")"
   ]
  },
  {
   "cell_type": "code",
   "execution_count": 39,
   "id": "f85e7b22",
   "metadata": {},
   "outputs": [
    {
     "data": {
      "text/plain": [
       "{'red': 'c1', 'green': 'c2', 'blue': 'c3'}"
      ]
     },
     "execution_count": 39,
     "metadata": {},
     "output_type": "execute_result"
    }
   ],
   "source": [
    "dict(zip(T1, T2))"
   ]
  },
  {
   "cell_type": "code",
   "execution_count": 40,
   "id": "7342543a",
   "metadata": {},
   "outputs": [
    {
     "data": {
      "text/plain": [
       "[('red', 'c1'), ('green', 'c2'), ('blue', 'c3')]"
      ]
     },
     "execution_count": 40,
     "metadata": {},
     "output_type": "execute_result"
    }
   ],
   "source": [
    "list(zip(T1, T2))"
   ]
  },
  {
   "cell_type": "code",
   "execution_count": 41,
   "id": "8b061159",
   "metadata": {},
   "outputs": [],
   "source": [
    "D = {'red': 'c1', 'green': 'c2', 'blue': 'c3'}"
   ]
  },
  {
   "cell_type": "code",
   "execution_count": 42,
   "id": "b4212eb8",
   "metadata": {},
   "outputs": [
    {
     "data": {
      "text/plain": [
       "[('red', 'green', 'blue'), ('c1', 'c2', 'c3')]"
      ]
     },
     "execution_count": 42,
     "metadata": {},
     "output_type": "execute_result"
    }
   ],
   "source": [
    "list(zip(*D.items())) # unzipping"
   ]
  },
  {
   "cell_type": "markdown",
   "id": "e74b4d5d",
   "metadata": {},
   "source": [
    "### 6. The collections Module"
   ]
  },
  {
   "cell_type": "code",
   "execution_count": 43,
   "id": "5fcc99cb",
   "metadata": {},
   "outputs": [],
   "source": [
    "from collections import Counter"
   ]
  },
  {
   "cell_type": "code",
   "execution_count": 44,
   "id": "5eb27d72",
   "metadata": {},
   "outputs": [
    {
     "data": {
      "text/plain": [
       "Counter({'m': 1, 'i': 4, 's': 4, 'p': 2})"
      ]
     },
     "execution_count": 44,
     "metadata": {},
     "output_type": "execute_result"
    }
   ],
   "source": [
    "d = \"mississippi\"\n",
    "z = Counter(d)\n",
    "z"
   ]
  },
  {
   "cell_type": "markdown",
   "id": "4deb5df6",
   "metadata": {},
   "source": [
    "### 7. The itertools Module"
   ]
  },
  {
   "cell_type": "code",
   "execution_count": 45,
   "id": "0177c591",
   "metadata": {},
   "outputs": [],
   "source": [
    "from itertools import permutations, combinations"
   ]
  },
  {
   "cell_type": "code",
   "execution_count": 46,
   "id": "3ec28f15",
   "metadata": {},
   "outputs": [],
   "source": [
    "s = 'abcd'"
   ]
  },
  {
   "cell_type": "code",
   "execution_count": 48,
   "id": "c5348bab",
   "metadata": {},
   "outputs": [
    {
     "data": {
      "text/plain": [
       "[('a', 'b', 'c', 'd'),\n",
       " ('a', 'b', 'd', 'c'),\n",
       " ('a', 'c', 'b', 'd'),\n",
       " ('a', 'c', 'd', 'b'),\n",
       " ('a', 'd', 'b', 'c'),\n",
       " ('a', 'd', 'c', 'b'),\n",
       " ('b', 'a', 'c', 'd'),\n",
       " ('b', 'a', 'd', 'c'),\n",
       " ('b', 'c', 'a', 'd'),\n",
       " ('b', 'c', 'd', 'a'),\n",
       " ('b', 'd', 'a', 'c'),\n",
       " ('b', 'd', 'c', 'a'),\n",
       " ('c', 'a', 'b', 'd'),\n",
       " ('c', 'a', 'd', 'b'),\n",
       " ('c', 'b', 'a', 'd'),\n",
       " ('c', 'b', 'd', 'a'),\n",
       " ('c', 'd', 'a', 'b'),\n",
       " ('c', 'd', 'b', 'a'),\n",
       " ('d', 'a', 'b', 'c'),\n",
       " ('d', 'a', 'c', 'b'),\n",
       " ('d', 'b', 'a', 'c'),\n",
       " ('d', 'b', 'c', 'a'),\n",
       " ('d', 'c', 'a', 'b'),\n",
       " ('d', 'c', 'b', 'a')]"
      ]
     },
     "execution_count": 48,
     "metadata": {},
     "output_type": "execute_result"
    }
   ],
   "source": [
    "list(permutations(s))"
   ]
  },
  {
   "cell_type": "code",
   "execution_count": 53,
   "id": "5d0a6c83",
   "metadata": {},
   "outputs": [
    {
     "data": {
      "text/plain": [
       "[('a', 'b', 'c', 'd')]"
      ]
     },
     "execution_count": 53,
     "metadata": {},
     "output_type": "execute_result"
    }
   ],
   "source": [
    "list(combinations(s, 4))"
   ]
  },
  {
   "cell_type": "markdown",
   "id": "1fff251c",
   "metadata": {},
   "source": [
    "### Exercise"
   ]
  },
  {
   "cell_type": "markdown",
   "id": "80d68aaf",
   "metadata": {},
   "source": [
    "Create a list of all permutations for cracking a 4 digit password using brute force method. No numbers have to repeat in a given password combination"
   ]
  },
  {
   "cell_type": "markdown",
   "id": "e3b8c3b0",
   "metadata": {},
   "source": [
    "[\"1234\",.... \"4567\", ... \"5463\"]"
   ]
  },
  {
   "cell_type": "code",
   "execution_count": 57,
   "id": "94df30ee",
   "metadata": {},
   "outputs": [
    {
     "data": {
      "text/plain": [
       "['0123',\n",
       " '0124',\n",
       " '0125',\n",
       " '0126',\n",
       " '0127',\n",
       " '0128',\n",
       " '0129',\n",
       " '0132',\n",
       " '0134',\n",
       " '0135',\n",
       " '0136',\n",
       " '0137',\n",
       " '0138',\n",
       " '0139',\n",
       " '0142',\n",
       " '0143',\n",
       " '0145',\n",
       " '0146',\n",
       " '0147',\n",
       " '0148',\n",
       " '0149',\n",
       " '0152',\n",
       " '0153',\n",
       " '0154',\n",
       " '0156',\n",
       " '0157',\n",
       " '0158',\n",
       " '0159',\n",
       " '0162',\n",
       " '0163',\n",
       " '0164',\n",
       " '0165',\n",
       " '0167',\n",
       " '0168',\n",
       " '0169',\n",
       " '0172',\n",
       " '0173',\n",
       " '0174',\n",
       " '0175',\n",
       " '0176',\n",
       " '0178',\n",
       " '0179',\n",
       " '0182',\n",
       " '0183',\n",
       " '0184',\n",
       " '0185',\n",
       " '0186',\n",
       " '0187',\n",
       " '0189',\n",
       " '0192',\n",
       " '0193',\n",
       " '0194',\n",
       " '0195',\n",
       " '0196',\n",
       " '0197',\n",
       " '0198',\n",
       " '0213',\n",
       " '0214',\n",
       " '0215',\n",
       " '0216',\n",
       " '0217',\n",
       " '0218',\n",
       " '0219',\n",
       " '0231',\n",
       " '0234',\n",
       " '0235',\n",
       " '0236',\n",
       " '0237',\n",
       " '0238',\n",
       " '0239',\n",
       " '0241',\n",
       " '0243',\n",
       " '0245',\n",
       " '0246',\n",
       " '0247',\n",
       " '0248',\n",
       " '0249',\n",
       " '0251',\n",
       " '0253',\n",
       " '0254',\n",
       " '0256',\n",
       " '0257',\n",
       " '0258',\n",
       " '0259',\n",
       " '0261',\n",
       " '0263',\n",
       " '0264',\n",
       " '0265',\n",
       " '0267',\n",
       " '0268',\n",
       " '0269',\n",
       " '0271',\n",
       " '0273',\n",
       " '0274',\n",
       " '0275',\n",
       " '0276',\n",
       " '0278',\n",
       " '0279',\n",
       " '0281',\n",
       " '0283',\n",
       " '0284',\n",
       " '0285',\n",
       " '0286',\n",
       " '0287',\n",
       " '0289',\n",
       " '0291',\n",
       " '0293',\n",
       " '0294',\n",
       " '0295',\n",
       " '0296',\n",
       " '0297',\n",
       " '0298',\n",
       " '0312',\n",
       " '0314',\n",
       " '0315',\n",
       " '0316',\n",
       " '0317',\n",
       " '0318',\n",
       " '0319',\n",
       " '0321',\n",
       " '0324',\n",
       " '0325',\n",
       " '0326',\n",
       " '0327',\n",
       " '0328',\n",
       " '0329',\n",
       " '0341',\n",
       " '0342',\n",
       " '0345',\n",
       " '0346',\n",
       " '0347',\n",
       " '0348',\n",
       " '0349',\n",
       " '0351',\n",
       " '0352',\n",
       " '0354',\n",
       " '0356',\n",
       " '0357',\n",
       " '0358',\n",
       " '0359',\n",
       " '0361',\n",
       " '0362',\n",
       " '0364',\n",
       " '0365',\n",
       " '0367',\n",
       " '0368',\n",
       " '0369',\n",
       " '0371',\n",
       " '0372',\n",
       " '0374',\n",
       " '0375',\n",
       " '0376',\n",
       " '0378',\n",
       " '0379',\n",
       " '0381',\n",
       " '0382',\n",
       " '0384',\n",
       " '0385',\n",
       " '0386',\n",
       " '0387',\n",
       " '0389',\n",
       " '0391',\n",
       " '0392',\n",
       " '0394',\n",
       " '0395',\n",
       " '0396',\n",
       " '0397',\n",
       " '0398',\n",
       " '0412',\n",
       " '0413',\n",
       " '0415',\n",
       " '0416',\n",
       " '0417',\n",
       " '0418',\n",
       " '0419',\n",
       " '0421',\n",
       " '0423',\n",
       " '0425',\n",
       " '0426',\n",
       " '0427',\n",
       " '0428',\n",
       " '0429',\n",
       " '0431',\n",
       " '0432',\n",
       " '0435',\n",
       " '0436',\n",
       " '0437',\n",
       " '0438',\n",
       " '0439',\n",
       " '0451',\n",
       " '0452',\n",
       " '0453',\n",
       " '0456',\n",
       " '0457',\n",
       " '0458',\n",
       " '0459',\n",
       " '0461',\n",
       " '0462',\n",
       " '0463',\n",
       " '0465',\n",
       " '0467',\n",
       " '0468',\n",
       " '0469',\n",
       " '0471',\n",
       " '0472',\n",
       " '0473',\n",
       " '0475',\n",
       " '0476',\n",
       " '0478',\n",
       " '0479',\n",
       " '0481',\n",
       " '0482',\n",
       " '0483',\n",
       " '0485',\n",
       " '0486',\n",
       " '0487',\n",
       " '0489',\n",
       " '0491',\n",
       " '0492',\n",
       " '0493',\n",
       " '0495',\n",
       " '0496',\n",
       " '0497',\n",
       " '0498',\n",
       " '0512',\n",
       " '0513',\n",
       " '0514',\n",
       " '0516',\n",
       " '0517',\n",
       " '0518',\n",
       " '0519',\n",
       " '0521',\n",
       " '0523',\n",
       " '0524',\n",
       " '0526',\n",
       " '0527',\n",
       " '0528',\n",
       " '0529',\n",
       " '0531',\n",
       " '0532',\n",
       " '0534',\n",
       " '0536',\n",
       " '0537',\n",
       " '0538',\n",
       " '0539',\n",
       " '0541',\n",
       " '0542',\n",
       " '0543',\n",
       " '0546',\n",
       " '0547',\n",
       " '0548',\n",
       " '0549',\n",
       " '0561',\n",
       " '0562',\n",
       " '0563',\n",
       " '0564',\n",
       " '0567',\n",
       " '0568',\n",
       " '0569',\n",
       " '0571',\n",
       " '0572',\n",
       " '0573',\n",
       " '0574',\n",
       " '0576',\n",
       " '0578',\n",
       " '0579',\n",
       " '0581',\n",
       " '0582',\n",
       " '0583',\n",
       " '0584',\n",
       " '0586',\n",
       " '0587',\n",
       " '0589',\n",
       " '0591',\n",
       " '0592',\n",
       " '0593',\n",
       " '0594',\n",
       " '0596',\n",
       " '0597',\n",
       " '0598',\n",
       " '0612',\n",
       " '0613',\n",
       " '0614',\n",
       " '0615',\n",
       " '0617',\n",
       " '0618',\n",
       " '0619',\n",
       " '0621',\n",
       " '0623',\n",
       " '0624',\n",
       " '0625',\n",
       " '0627',\n",
       " '0628',\n",
       " '0629',\n",
       " '0631',\n",
       " '0632',\n",
       " '0634',\n",
       " '0635',\n",
       " '0637',\n",
       " '0638',\n",
       " '0639',\n",
       " '0641',\n",
       " '0642',\n",
       " '0643',\n",
       " '0645',\n",
       " '0647',\n",
       " '0648',\n",
       " '0649',\n",
       " '0651',\n",
       " '0652',\n",
       " '0653',\n",
       " '0654',\n",
       " '0657',\n",
       " '0658',\n",
       " '0659',\n",
       " '0671',\n",
       " '0672',\n",
       " '0673',\n",
       " '0674',\n",
       " '0675',\n",
       " '0678',\n",
       " '0679',\n",
       " '0681',\n",
       " '0682',\n",
       " '0683',\n",
       " '0684',\n",
       " '0685',\n",
       " '0687',\n",
       " '0689',\n",
       " '0691',\n",
       " '0692',\n",
       " '0693',\n",
       " '0694',\n",
       " '0695',\n",
       " '0697',\n",
       " '0698',\n",
       " '0712',\n",
       " '0713',\n",
       " '0714',\n",
       " '0715',\n",
       " '0716',\n",
       " '0718',\n",
       " '0719',\n",
       " '0721',\n",
       " '0723',\n",
       " '0724',\n",
       " '0725',\n",
       " '0726',\n",
       " '0728',\n",
       " '0729',\n",
       " '0731',\n",
       " '0732',\n",
       " '0734',\n",
       " '0735',\n",
       " '0736',\n",
       " '0738',\n",
       " '0739',\n",
       " '0741',\n",
       " '0742',\n",
       " '0743',\n",
       " '0745',\n",
       " '0746',\n",
       " '0748',\n",
       " '0749',\n",
       " '0751',\n",
       " '0752',\n",
       " '0753',\n",
       " '0754',\n",
       " '0756',\n",
       " '0758',\n",
       " '0759',\n",
       " '0761',\n",
       " '0762',\n",
       " '0763',\n",
       " '0764',\n",
       " '0765',\n",
       " '0768',\n",
       " '0769',\n",
       " '0781',\n",
       " '0782',\n",
       " '0783',\n",
       " '0784',\n",
       " '0785',\n",
       " '0786',\n",
       " '0789',\n",
       " '0791',\n",
       " '0792',\n",
       " '0793',\n",
       " '0794',\n",
       " '0795',\n",
       " '0796',\n",
       " '0798',\n",
       " '0812',\n",
       " '0813',\n",
       " '0814',\n",
       " '0815',\n",
       " '0816',\n",
       " '0817',\n",
       " '0819',\n",
       " '0821',\n",
       " '0823',\n",
       " '0824',\n",
       " '0825',\n",
       " '0826',\n",
       " '0827',\n",
       " '0829',\n",
       " '0831',\n",
       " '0832',\n",
       " '0834',\n",
       " '0835',\n",
       " '0836',\n",
       " '0837',\n",
       " '0839',\n",
       " '0841',\n",
       " '0842',\n",
       " '0843',\n",
       " '0845',\n",
       " '0846',\n",
       " '0847',\n",
       " '0849',\n",
       " '0851',\n",
       " '0852',\n",
       " '0853',\n",
       " '0854',\n",
       " '0856',\n",
       " '0857',\n",
       " '0859',\n",
       " '0861',\n",
       " '0862',\n",
       " '0863',\n",
       " '0864',\n",
       " '0865',\n",
       " '0867',\n",
       " '0869',\n",
       " '0871',\n",
       " '0872',\n",
       " '0873',\n",
       " '0874',\n",
       " '0875',\n",
       " '0876',\n",
       " '0879',\n",
       " '0891',\n",
       " '0892',\n",
       " '0893',\n",
       " '0894',\n",
       " '0895',\n",
       " '0896',\n",
       " '0897',\n",
       " '0912',\n",
       " '0913',\n",
       " '0914',\n",
       " '0915',\n",
       " '0916',\n",
       " '0917',\n",
       " '0918',\n",
       " '0921',\n",
       " '0923',\n",
       " '0924',\n",
       " '0925',\n",
       " '0926',\n",
       " '0927',\n",
       " '0928',\n",
       " '0931',\n",
       " '0932',\n",
       " '0934',\n",
       " '0935',\n",
       " '0936',\n",
       " '0937',\n",
       " '0938',\n",
       " '0941',\n",
       " '0942',\n",
       " '0943',\n",
       " '0945',\n",
       " '0946',\n",
       " '0947',\n",
       " '0948',\n",
       " '0951',\n",
       " '0952',\n",
       " '0953',\n",
       " '0954',\n",
       " '0956',\n",
       " '0957',\n",
       " '0958',\n",
       " '0961',\n",
       " '0962',\n",
       " '0963',\n",
       " '0964',\n",
       " '0965',\n",
       " '0967',\n",
       " '0968',\n",
       " '0971',\n",
       " '0972',\n",
       " '0973',\n",
       " '0974',\n",
       " '0975',\n",
       " '0976',\n",
       " '0978',\n",
       " '0981',\n",
       " '0982',\n",
       " '0983',\n",
       " '0984',\n",
       " '0985',\n",
       " '0986',\n",
       " '0987',\n",
       " '1023',\n",
       " '1024',\n",
       " '1025',\n",
       " '1026',\n",
       " '1027',\n",
       " '1028',\n",
       " '1029',\n",
       " '1032',\n",
       " '1034',\n",
       " '1035',\n",
       " '1036',\n",
       " '1037',\n",
       " '1038',\n",
       " '1039',\n",
       " '1042',\n",
       " '1043',\n",
       " '1045',\n",
       " '1046',\n",
       " '1047',\n",
       " '1048',\n",
       " '1049',\n",
       " '1052',\n",
       " '1053',\n",
       " '1054',\n",
       " '1056',\n",
       " '1057',\n",
       " '1058',\n",
       " '1059',\n",
       " '1062',\n",
       " '1063',\n",
       " '1064',\n",
       " '1065',\n",
       " '1067',\n",
       " '1068',\n",
       " '1069',\n",
       " '1072',\n",
       " '1073',\n",
       " '1074',\n",
       " '1075',\n",
       " '1076',\n",
       " '1078',\n",
       " '1079',\n",
       " '1082',\n",
       " '1083',\n",
       " '1084',\n",
       " '1085',\n",
       " '1086',\n",
       " '1087',\n",
       " '1089',\n",
       " '1092',\n",
       " '1093',\n",
       " '1094',\n",
       " '1095',\n",
       " '1096',\n",
       " '1097',\n",
       " '1098',\n",
       " '1203',\n",
       " '1204',\n",
       " '1205',\n",
       " '1206',\n",
       " '1207',\n",
       " '1208',\n",
       " '1209',\n",
       " '1230',\n",
       " '1234',\n",
       " '1235',\n",
       " '1236',\n",
       " '1237',\n",
       " '1238',\n",
       " '1239',\n",
       " '1240',\n",
       " '1243',\n",
       " '1245',\n",
       " '1246',\n",
       " '1247',\n",
       " '1248',\n",
       " '1249',\n",
       " '1250',\n",
       " '1253',\n",
       " '1254',\n",
       " '1256',\n",
       " '1257',\n",
       " '1258',\n",
       " '1259',\n",
       " '1260',\n",
       " '1263',\n",
       " '1264',\n",
       " '1265',\n",
       " '1267',\n",
       " '1268',\n",
       " '1269',\n",
       " '1270',\n",
       " '1273',\n",
       " '1274',\n",
       " '1275',\n",
       " '1276',\n",
       " '1278',\n",
       " '1279',\n",
       " '1280',\n",
       " '1283',\n",
       " '1284',\n",
       " '1285',\n",
       " '1286',\n",
       " '1287',\n",
       " '1289',\n",
       " '1290',\n",
       " '1293',\n",
       " '1294',\n",
       " '1295',\n",
       " '1296',\n",
       " '1297',\n",
       " '1298',\n",
       " '1302',\n",
       " '1304',\n",
       " '1305',\n",
       " '1306',\n",
       " '1307',\n",
       " '1308',\n",
       " '1309',\n",
       " '1320',\n",
       " '1324',\n",
       " '1325',\n",
       " '1326',\n",
       " '1327',\n",
       " '1328',\n",
       " '1329',\n",
       " '1340',\n",
       " '1342',\n",
       " '1345',\n",
       " '1346',\n",
       " '1347',\n",
       " '1348',\n",
       " '1349',\n",
       " '1350',\n",
       " '1352',\n",
       " '1354',\n",
       " '1356',\n",
       " '1357',\n",
       " '1358',\n",
       " '1359',\n",
       " '1360',\n",
       " '1362',\n",
       " '1364',\n",
       " '1365',\n",
       " '1367',\n",
       " '1368',\n",
       " '1369',\n",
       " '1370',\n",
       " '1372',\n",
       " '1374',\n",
       " '1375',\n",
       " '1376',\n",
       " '1378',\n",
       " '1379',\n",
       " '1380',\n",
       " '1382',\n",
       " '1384',\n",
       " '1385',\n",
       " '1386',\n",
       " '1387',\n",
       " '1389',\n",
       " '1390',\n",
       " '1392',\n",
       " '1394',\n",
       " '1395',\n",
       " '1396',\n",
       " '1397',\n",
       " '1398',\n",
       " '1402',\n",
       " '1403',\n",
       " '1405',\n",
       " '1406',\n",
       " '1407',\n",
       " '1408',\n",
       " '1409',\n",
       " '1420',\n",
       " '1423',\n",
       " '1425',\n",
       " '1426',\n",
       " '1427',\n",
       " '1428',\n",
       " '1429',\n",
       " '1430',\n",
       " '1432',\n",
       " '1435',\n",
       " '1436',\n",
       " '1437',\n",
       " '1438',\n",
       " '1439',\n",
       " '1450',\n",
       " '1452',\n",
       " '1453',\n",
       " '1456',\n",
       " '1457',\n",
       " '1458',\n",
       " '1459',\n",
       " '1460',\n",
       " '1462',\n",
       " '1463',\n",
       " '1465',\n",
       " '1467',\n",
       " '1468',\n",
       " '1469',\n",
       " '1470',\n",
       " '1472',\n",
       " '1473',\n",
       " '1475',\n",
       " '1476',\n",
       " '1478',\n",
       " '1479',\n",
       " '1480',\n",
       " '1482',\n",
       " '1483',\n",
       " '1485',\n",
       " '1486',\n",
       " '1487',\n",
       " '1489',\n",
       " '1490',\n",
       " '1492',\n",
       " '1493',\n",
       " '1495',\n",
       " '1496',\n",
       " '1497',\n",
       " '1498',\n",
       " '1502',\n",
       " '1503',\n",
       " '1504',\n",
       " '1506',\n",
       " '1507',\n",
       " '1508',\n",
       " '1509',\n",
       " '1520',\n",
       " '1523',\n",
       " '1524',\n",
       " '1526',\n",
       " '1527',\n",
       " '1528',\n",
       " '1529',\n",
       " '1530',\n",
       " '1532',\n",
       " '1534',\n",
       " '1536',\n",
       " '1537',\n",
       " '1538',\n",
       " '1539',\n",
       " '1540',\n",
       " '1542',\n",
       " '1543',\n",
       " '1546',\n",
       " '1547',\n",
       " '1548',\n",
       " '1549',\n",
       " '1560',\n",
       " '1562',\n",
       " '1563',\n",
       " '1564',\n",
       " '1567',\n",
       " '1568',\n",
       " '1569',\n",
       " '1570',\n",
       " '1572',\n",
       " '1573',\n",
       " '1574',\n",
       " '1576',\n",
       " '1578',\n",
       " '1579',\n",
       " '1580',\n",
       " '1582',\n",
       " '1583',\n",
       " '1584',\n",
       " '1586',\n",
       " '1587',\n",
       " '1589',\n",
       " '1590',\n",
       " '1592',\n",
       " '1593',\n",
       " '1594',\n",
       " '1596',\n",
       " '1597',\n",
       " '1598',\n",
       " '1602',\n",
       " '1603',\n",
       " '1604',\n",
       " '1605',\n",
       " '1607',\n",
       " '1608',\n",
       " '1609',\n",
       " '1620',\n",
       " '1623',\n",
       " '1624',\n",
       " '1625',\n",
       " '1627',\n",
       " '1628',\n",
       " '1629',\n",
       " '1630',\n",
       " '1632',\n",
       " '1634',\n",
       " '1635',\n",
       " '1637',\n",
       " '1638',\n",
       " '1639',\n",
       " '1640',\n",
       " '1642',\n",
       " '1643',\n",
       " '1645',\n",
       " '1647',\n",
       " '1648',\n",
       " '1649',\n",
       " '1650',\n",
       " '1652',\n",
       " '1653',\n",
       " '1654',\n",
       " '1657',\n",
       " '1658',\n",
       " '1659',\n",
       " '1670',\n",
       " '1672',\n",
       " '1673',\n",
       " '1674',\n",
       " '1675',\n",
       " '1678',\n",
       " '1679',\n",
       " '1680',\n",
       " '1682',\n",
       " '1683',\n",
       " '1684',\n",
       " '1685',\n",
       " '1687',\n",
       " '1689',\n",
       " '1690',\n",
       " '1692',\n",
       " '1693',\n",
       " '1694',\n",
       " '1695',\n",
       " '1697',\n",
       " '1698',\n",
       " '1702',\n",
       " '1703',\n",
       " '1704',\n",
       " '1705',\n",
       " '1706',\n",
       " '1708',\n",
       " '1709',\n",
       " '1720',\n",
       " '1723',\n",
       " '1724',\n",
       " '1725',\n",
       " '1726',\n",
       " '1728',\n",
       " '1729',\n",
       " '1730',\n",
       " '1732',\n",
       " '1734',\n",
       " '1735',\n",
       " '1736',\n",
       " '1738',\n",
       " '1739',\n",
       " '1740',\n",
       " '1742',\n",
       " '1743',\n",
       " '1745',\n",
       " '1746',\n",
       " '1748',\n",
       " '1749',\n",
       " '1750',\n",
       " '1752',\n",
       " '1753',\n",
       " '1754',\n",
       " '1756',\n",
       " '1758',\n",
       " '1759',\n",
       " '1760',\n",
       " '1762',\n",
       " '1763',\n",
       " '1764',\n",
       " '1765',\n",
       " '1768',\n",
       " '1769',\n",
       " '1780',\n",
       " '1782',\n",
       " '1783',\n",
       " '1784',\n",
       " '1785',\n",
       " '1786',\n",
       " '1789',\n",
       " '1790',\n",
       " '1792',\n",
       " '1793',\n",
       " '1794',\n",
       " '1795',\n",
       " '1796',\n",
       " '1798',\n",
       " '1802',\n",
       " '1803',\n",
       " '1804',\n",
       " '1805',\n",
       " '1806',\n",
       " '1807',\n",
       " '1809',\n",
       " '1820',\n",
       " '1823',\n",
       " '1824',\n",
       " '1825',\n",
       " '1826',\n",
       " '1827',\n",
       " '1829',\n",
       " '1830',\n",
       " '1832',\n",
       " '1834',\n",
       " '1835',\n",
       " '1836',\n",
       " '1837',\n",
       " '1839',\n",
       " '1840',\n",
       " '1842',\n",
       " '1843',\n",
       " '1845',\n",
       " '1846',\n",
       " '1847',\n",
       " '1849',\n",
       " '1850',\n",
       " '1852',\n",
       " '1853',\n",
       " '1854',\n",
       " '1856',\n",
       " '1857',\n",
       " '1859',\n",
       " '1860',\n",
       " '1862',\n",
       " '1863',\n",
       " '1864',\n",
       " '1865',\n",
       " '1867',\n",
       " '1869',\n",
       " '1870',\n",
       " '1872',\n",
       " '1873',\n",
       " '1874',\n",
       " '1875',\n",
       " '1876',\n",
       " '1879',\n",
       " '1890',\n",
       " '1892',\n",
       " '1893',\n",
       " '1894',\n",
       " '1895',\n",
       " '1896',\n",
       " '1897',\n",
       " '1902',\n",
       " '1903',\n",
       " '1904',\n",
       " '1905',\n",
       " '1906',\n",
       " '1907',\n",
       " '1908',\n",
       " '1920',\n",
       " '1923',\n",
       " '1924',\n",
       " '1925',\n",
       " '1926',\n",
       " '1927',\n",
       " '1928',\n",
       " '1930',\n",
       " '1932',\n",
       " '1934',\n",
       " '1935',\n",
       " '1936',\n",
       " '1937',\n",
       " '1938',\n",
       " '1940',\n",
       " '1942',\n",
       " '1943',\n",
       " '1945',\n",
       " '1946',\n",
       " '1947',\n",
       " '1948',\n",
       " '1950',\n",
       " '1952',\n",
       " '1953',\n",
       " '1954',\n",
       " '1956',\n",
       " '1957',\n",
       " '1958',\n",
       " '1960',\n",
       " '1962',\n",
       " '1963',\n",
       " '1964',\n",
       " '1965',\n",
       " '1967',\n",
       " '1968',\n",
       " '1970',\n",
       " '1972',\n",
       " '1973',\n",
       " '1974',\n",
       " '1975',\n",
       " '1976',\n",
       " ...]"
      ]
     },
     "execution_count": 57,
     "metadata": {},
     "output_type": "execute_result"
    }
   ],
   "source": [
    "s = \"0123456789\"\n",
    "p = map(lambda item : ''.join(item), list(permutations(s, 4)))\n",
    "list(p)"
   ]
  },
  {
   "cell_type": "markdown",
   "id": "5002f153",
   "metadata": {},
   "source": [
    "### 8. The operator Module"
   ]
  },
  {
   "cell_type": "code",
   "execution_count": 58,
   "id": "7e6f32ca",
   "metadata": {},
   "outputs": [],
   "source": [
    "from operator import itemgetter"
   ]
  },
  {
   "cell_type": "code",
   "execution_count": 59,
   "id": "52d46fbc",
   "metadata": {},
   "outputs": [
    {
     "data": {
      "text/plain": [
       "'p'"
      ]
     },
     "execution_count": 59,
     "metadata": {},
     "output_type": "execute_result"
    }
   ],
   "source": [
    "itemgetter(1)(\"apples\")"
   ]
  },
  {
   "cell_type": "code",
   "execution_count": 60,
   "id": "008c4198",
   "metadata": {},
   "outputs": [
    {
     "data": {
      "text/plain": [
       "'green'"
      ]
     },
     "execution_count": 60,
     "metadata": {},
     "output_type": "execute_result"
    }
   ],
   "source": [
    "itemgetter(1)([\"red\", \"green\", \"blue\"])"
   ]
  },
  {
   "cell_type": "code",
   "execution_count": 61,
   "id": "a234f8b7",
   "metadata": {},
   "outputs": [],
   "source": [
    "f = itemgetter(-1)"
   ]
  },
  {
   "cell_type": "code",
   "execution_count": 62,
   "id": "fc913892",
   "metadata": {},
   "outputs": [
    {
     "data": {
      "text/plain": [
       "operator.itemgetter"
      ]
     },
     "execution_count": 62,
     "metadata": {},
     "output_type": "execute_result"
    }
   ],
   "source": [
    "type(f)"
   ]
  },
  {
   "cell_type": "code",
   "execution_count": 63,
   "id": "cad8938a",
   "metadata": {},
   "outputs": [
    {
     "data": {
      "text/plain": [
       "'s'"
      ]
     },
     "execution_count": 63,
     "metadata": {},
     "output_type": "execute_result"
    }
   ],
   "source": [
    "f(\"apples\")"
   ]
  },
  {
   "cell_type": "code",
   "execution_count": 64,
   "id": "32a88ca1",
   "metadata": {},
   "outputs": [
    {
     "data": {
      "text/plain": [
       "'berries'"
      ]
     },
     "execution_count": 64,
     "metadata": {},
     "output_type": "execute_result"
    }
   ],
   "source": [
    "f([\"apples\", \"cherries\", \"berries\"])"
   ]
  },
  {
   "cell_type": "code",
   "execution_count": 65,
   "id": "6618e7c0",
   "metadata": {},
   "outputs": [],
   "source": [
    "L = [\"apples\", \"cherries\", \"berries\"]"
   ]
  },
  {
   "cell_type": "code",
   "execution_count": 67,
   "id": "0697185b",
   "metadata": {},
   "outputs": [
    {
     "data": {
      "text/plain": [
       "['berries', 'cherries', 'apples']"
      ]
     },
     "execution_count": 67,
     "metadata": {},
     "output_type": "execute_result"
    }
   ],
   "source": [
    "L.sort(key=itemgetter(1))\n",
    "L"
   ]
  },
  {
   "cell_type": "markdown",
   "id": "20642d90",
   "metadata": {},
   "source": [
    "### 9. The datetime() Module"
   ]
  },
  {
   "cell_type": "code",
   "execution_count": 68,
   "id": "4b6edb84",
   "metadata": {},
   "outputs": [],
   "source": [
    "from datetime import datetime"
   ]
  },
  {
   "cell_type": "code",
   "execution_count": 69,
   "id": "9a5f443c",
   "metadata": {},
   "outputs": [],
   "source": [
    "t = datetime.now()"
   ]
  },
  {
   "cell_type": "code",
   "execution_count": 70,
   "id": "3431165a",
   "metadata": {},
   "outputs": [
    {
     "data": {
      "text/plain": [
       "datetime.datetime(2024, 6, 20, 13, 0, 6, 953559)"
      ]
     },
     "execution_count": 70,
     "metadata": {},
     "output_type": "execute_result"
    }
   ],
   "source": [
    "t"
   ]
  },
  {
   "cell_type": "code",
   "execution_count": 72,
   "id": "b899e69a",
   "metadata": {},
   "outputs": [
    {
     "data": {
      "text/plain": [
       "(2024, 6, 20)"
      ]
     },
     "execution_count": 72,
     "metadata": {},
     "output_type": "execute_result"
    }
   ],
   "source": [
    "t.year, t.month, t.day"
   ]
  },
  {
   "cell_type": "code",
   "execution_count": 73,
   "id": "e43be441",
   "metadata": {},
   "outputs": [
    {
     "data": {
      "text/plain": [
       "(13, 0, 6, 953559)"
      ]
     },
     "execution_count": 73,
     "metadata": {},
     "output_type": "execute_result"
    }
   ],
   "source": [
    "t.hour, t.minute, t.second, t.microsecond"
   ]
  },
  {
   "cell_type": "code",
   "execution_count": 75,
   "id": "211999c6",
   "metadata": {},
   "outputs": [
    {
     "data": {
      "text/plain": [
       "3"
      ]
     },
     "execution_count": 75,
     "metadata": {},
     "output_type": "execute_result"
    }
   ],
   "source": [
    "t.weekday()"
   ]
  },
  {
   "cell_type": "code",
   "execution_count": 76,
   "id": "1b53707a",
   "metadata": {},
   "outputs": [],
   "source": [
    "# Thursday, 20 June 2024, 1:00 PM"
   ]
  },
  {
   "cell_type": "code",
   "execution_count": 77,
   "id": "d8f045a4",
   "metadata": {},
   "outputs": [],
   "source": [
    "f = \"%A, %d %B %Y, %I:%M %p\""
   ]
  },
  {
   "cell_type": "code",
   "execution_count": 78,
   "id": "68df0008",
   "metadata": {},
   "outputs": [
    {
     "data": {
      "text/plain": [
       "'Thursday, 20 June 2024, 01:00 PM'"
      ]
     },
     "execution_count": 78,
     "metadata": {},
     "output_type": "execute_result"
    }
   ],
   "source": [
    "t.strftime(f)"
   ]
  },
  {
   "cell_type": "code",
   "execution_count": 79,
   "id": "623795eb",
   "metadata": {},
   "outputs": [],
   "source": [
    "t2 = datetime.now()"
   ]
  },
  {
   "cell_type": "code",
   "execution_count": 81,
   "id": "02ca3644",
   "metadata": {},
   "outputs": [
    {
     "data": {
      "text/plain": [
       "datetime.timedelta(seconds=393, microseconds=868405)"
      ]
     },
     "execution_count": 81,
     "metadata": {},
     "output_type": "execute_result"
    }
   ],
   "source": [
    "t2 - t"
   ]
  },
  {
   "cell_type": "markdown",
   "id": "04e464ce",
   "metadata": {},
   "source": [
    "### Exercise"
   ]
  },
  {
   "cell_type": "markdown",
   "id": "42329115",
   "metadata": {},
   "source": [
    "How much time does it take to print all the prime numbers between 1 and 100000"
   ]
  },
  {
   "cell_type": "markdown",
   "id": "0eadf6c1",
   "metadata": {},
   "source": [
    "### 10. The OS and Shutil Modules"
   ]
  },
  {
   "cell_type": "code",
   "execution_count": 82,
   "id": "b2bde326",
   "metadata": {},
   "outputs": [],
   "source": [
    "import os, os.path, shutil"
   ]
  },
  {
   "cell_type": "code",
   "execution_count": 83,
   "id": "678c19e8",
   "metadata": {},
   "outputs": [],
   "source": [
    "path = r\"C:\\Users\\Admin\\Desktop\\arshniv-technologies\\continueserve-bootcamp\\python-classwork\\15_special_functions\\test\""
   ]
  },
  {
   "cell_type": "code",
   "execution_count": 84,
   "id": "e1ac3d60",
   "metadata": {},
   "outputs": [
    {
     "data": {
      "text/plain": [
       "'C:\\\\Users\\\\Admin\\\\Desktop\\\\arshniv-technologies\\\\continueserve-bootcamp\\\\python-classwork\\\\15_special_functions'"
      ]
     },
     "execution_count": 84,
     "metadata": {},
     "output_type": "execute_result"
    }
   ],
   "source": [
    "os.getcwd()"
   ]
  },
  {
   "cell_type": "code",
   "execution_count": 85,
   "id": "b57227d3",
   "metadata": {},
   "outputs": [],
   "source": [
    "os.chdir(path)"
   ]
  },
  {
   "cell_type": "code",
   "execution_count": 86,
   "id": "0dfcb0e0",
   "metadata": {},
   "outputs": [
    {
     "data": {
      "text/plain": [
       "'C:\\\\Users\\\\Admin\\\\Desktop\\\\arshniv-technologies\\\\continueserve-bootcamp\\\\python-classwork\\\\15_special_functions\\\\test'"
      ]
     },
     "execution_count": 86,
     "metadata": {},
     "output_type": "execute_result"
    }
   ],
   "source": [
    "os.getcwd()"
   ]
  },
  {
   "cell_type": "code",
   "execution_count": 88,
   "id": "ccc1e2da",
   "metadata": {},
   "outputs": [
    {
     "data": {
      "text/plain": [
       "['doc1.docx',\n",
       " 'doc2.docx',\n",
       " 'pic1.bmp',\n",
       " 'pic2.bmp',\n",
       " 'presentation2.pptx',\n",
       " 'presetation1.pptx',\n",
       " 'spread.xlsx',\n",
       " 'spread1.xlsx',\n",
       " 'text1.txt',\n",
       " 'text2.txt']"
      ]
     },
     "execution_count": 88,
     "metadata": {},
     "output_type": "execute_result"
    }
   ],
   "source": [
    "files = os.listdir()\n",
    "files"
   ]
  },
  {
   "cell_type": "code",
   "execution_count": 89,
   "id": "3cdb1db1",
   "metadata": {},
   "outputs": [],
   "source": [
    "s = 'spread.xlsx'"
   ]
  },
  {
   "cell_type": "code",
   "execution_count": 92,
   "id": "9dd386b2",
   "metadata": {},
   "outputs": [
    {
     "data": {
      "text/plain": [
       "'xlsx'"
      ]
     },
     "execution_count": 92,
     "metadata": {},
     "output_type": "execute_result"
    }
   ],
   "source": [
    "os.path.splitext(s)[1][1:]"
   ]
  },
  {
   "cell_type": "code",
   "execution_count": 96,
   "id": "05553303",
   "metadata": {},
   "outputs": [],
   "source": [
    "reqDirectories = set(map(lambda s:os.path.splitext(s)[1][1:], files))"
   ]
  },
  {
   "cell_type": "code",
   "execution_count": 97,
   "id": "811adcab",
   "metadata": {},
   "outputs": [
    {
     "data": {
      "text/plain": [
       "{'bmp', 'docx', 'pptx', 'txt', 'xlsx'}"
      ]
     },
     "execution_count": 97,
     "metadata": {},
     "output_type": "execute_result"
    }
   ],
   "source": [
    "reqDirectories"
   ]
  },
  {
   "cell_type": "code",
   "execution_count": 98,
   "id": "131c201b",
   "metadata": {},
   "outputs": [],
   "source": [
    "for d in reqDirectories:\n",
    "    os.mkdir(d)"
   ]
  },
  {
   "cell_type": "code",
   "execution_count": 99,
   "id": "95d9ea4e",
   "metadata": {},
   "outputs": [
    {
     "data": {
      "text/plain": [
       "'./txt/text1.txt'"
      ]
     },
     "execution_count": 99,
     "metadata": {},
     "output_type": "execute_result"
    }
   ],
   "source": [
    "shutil.move('text1.txt', './txt/text1.txt')"
   ]
  },
  {
   "cell_type": "code",
   "execution_count": 100,
   "id": "1b7c326c",
   "metadata": {},
   "outputs": [],
   "source": [
    "for file in files:\n",
    "    if(os.isfile(file)):\n",
    "        src = file\n",
    "        dest = os.path.splitext(file)[1][1:]\n",
    "        finalDest = os.path.join(dest, file)\n",
    "        shutil.move(src, finalDest)"
   ]
  },
  {
   "cell_type": "code",
   "execution_count": null,
   "id": "b85758d7",
   "metadata": {},
   "outputs": [],
   "source": []
  }
 ],
 "metadata": {
  "kernelspec": {
   "display_name": "Python 3 (ipykernel)",
   "language": "python",
   "name": "python3"
  },
  "language_info": {
   "codemirror_mode": {
    "name": "ipython",
    "version": 3
   },
   "file_extension": ".py",
   "mimetype": "text/x-python",
   "name": "python",
   "nbconvert_exporter": "python",
   "pygments_lexer": "ipython3",
   "version": "3.9.12"
  }
 },
 "nbformat": 4,
 "nbformat_minor": 5
}

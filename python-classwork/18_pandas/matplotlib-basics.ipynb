{
 "cells": [
  {
   "cell_type": "code",
   "execution_count": 1,
   "id": "7d354582",
   "metadata": {},
   "outputs": [],
   "source": [
    "import matplotlib.pyplot as plt"
   ]
  },
  {
   "cell_type": "code",
   "execution_count": 2,
   "id": "f499166b",
   "metadata": {},
   "outputs": [],
   "source": [
    "x = list(range(20))"
   ]
  },
  {
   "cell_type": "code",
   "execution_count": 3,
   "id": "f99cce0f",
   "metadata": {},
   "outputs": [],
   "source": [
    "import random"
   ]
  },
  {
   "cell_type": "code",
   "execution_count": 6,
   "id": "d1fe54bb",
   "metadata": {},
   "outputs": [],
   "source": [
    "y = [random.randint(1, 100) for i in range(20)]"
   ]
  },
  {
   "cell_type": "code",
   "execution_count": 7,
   "id": "31b7ee01",
   "metadata": {},
   "outputs": [
    {
     "data": {
      "text/plain": [
       "<matplotlib.collections.PathCollection at 0x154fdff9d90>"
      ]
     },
     "execution_count": 7,
     "metadata": {},
     "output_type": "execute_result"
    },
    {
     "data": {
      "image/png": "[encoded data removed]",
      "text/plain": [
       "<Figure size 432x288 with 1 Axes>"
      ]
     },
     "metadata": {
      "needs_background": "light"
     },
     "output_type": "display_data"
    }
   ],
   "source": [
    "plt.scatter(x, y)"
   ]
  },
  {
   "cell_type": "code",
   "execution_count": 8,
   "id": "2e1f8830",
   "metadata": {},
   "outputs": [
    {
     "data": {
      "text/plain": [
       "<BarContainer object of 20 artists>"
      ]
     },
     "execution_count": 8,
     "metadata": {},
     "output_type": "execute_result"
    },
    {
     "data": {
      "image/png": "[encoded data removed]",
      "text/plain": [
       "<Figure size 432x288 with 1 Axes>"
      ]
     },
     "metadata": {
      "needs_background": "light"
     },
     "output_type": "display_data"
    }
   ],
   "source": [
    "plt.bar(x, y)"
   ]
  },
  {
   "cell_type": "code",
   "execution_count": 9,
   "id": "728ade72",
   "metadata": {},
   "outputs": [
    {
     "data": {
      "text/plain": [
       "([<matplotlib.patches.Wedge at 0x154fe13a670>,\n",
       "  <matplotlib.patches.Wedge at 0x154fe13a9d0>,\n",
       "  <matplotlib.patches.Wedge at 0x154fe13aeb0>,\n",
       "  <matplotlib.patches.Wedge at 0x154fe149400>,\n",
       "  <matplotlib.patches.Wedge at 0x154fe1498e0>],\n",
       " [Text(1.1, 0.0, ''),\n",
       "  Text(1.0461621663333946, 0.3399186987098808, ''),\n",
       "  Text(0.33991867422268784, 1.0461621742897658, ''),\n",
       "  Text(-1.0461621902025062, 0.3399186252483017, ''),\n",
       "  Text(0.3399188211458418, -1.0461621265515308, '')])"
      ]
     },
     "execution_count": 9,
     "metadata": {},
     "output_type": "execute_result"
    },
    {
     "data": {
      "image/png": "[encoded data removed]",
      "text/plain": [
       "<Figure size 432x288 with 1 Axes>"
      ]
     },
     "metadata": {},
     "output_type": "display_data"
    }
   ],
   "source": [
    "plt.pie(list(range(5)))"
   ]
  },
  {
   "cell_type": "code",
   "execution_count": 14,
   "id": "fd1a6e72",
   "metadata": {},
   "outputs": [],
   "source": [
    "z = [random.randint(1, 200) for i in range(10000)]"
   ]
  },
  {
   "cell_type": "code",
   "execution_count": 16,
   "id": "ff3a58d3",
   "metadata": {},
   "outputs": [
    {
     "data": {
      "text/plain": [
       "(array([59., 60., 45., 58., 39., 59., 47., 66., 45., 45., 47., 59., 47.,\n",
       "        47., 55., 55., 57., 53., 39., 56., 46., 53., 46., 44., 56., 47.,\n",
       "        50., 42., 49., 66., 41., 54., 49., 42., 42., 45., 46., 51., 45.,\n",
       "        66., 37., 59., 52., 45., 45., 50., 38., 42., 52., 62., 55., 48.,\n",
       "        50., 44., 43., 52., 45., 55., 59., 44., 65., 49., 45., 50., 48.,\n",
       "        44., 52., 44., 54., 60., 41., 50., 52., 46., 38., 51., 57., 43.,\n",
       "        55., 51., 48., 35., 45., 56., 63., 52., 59., 42., 55., 43., 63.,\n",
       "        46., 58., 50., 58., 62., 57., 50., 47., 58., 56., 54., 56., 48.,\n",
       "        56., 47., 49., 47., 54., 57., 48., 49., 49., 48., 51., 59., 47.,\n",
       "        46., 39., 42., 50., 50., 42., 54., 52., 42., 49., 44., 50., 54.,\n",
       "        53., 53., 43., 51., 43., 55., 54., 48., 49., 49., 51., 47., 62.,\n",
       "        45., 55., 48., 52., 52., 41., 55., 54., 50., 50., 43., 55., 38.,\n",
       "        53., 44., 56., 57., 54., 45., 51., 46., 49., 46., 53., 42., 42.,\n",
       "        57., 62., 46., 57., 52., 70., 53., 53., 45., 40., 47., 50., 57.,\n",
       "        43., 54., 39., 53., 52., 59., 45., 55., 40., 38., 43., 45., 46.,\n",
       "        46., 58., 46., 48., 41.]),\n",
       " array([  1.   ,   1.995,   2.99 ,   3.985,   4.98 ,   5.975,   6.97 ,\n",
       "          7.965,   8.96 ,   9.955,  10.95 ,  11.945,  12.94 ,  13.935,\n",
       "         14.93 ,  15.925,  16.92 ,  17.915,  18.91 ,  19.905,  20.9  ,\n",
       "         21.895,  22.89 ,  23.885,  24.88 ,  25.875,  26.87 ,  27.865,\n",
       "         28.86 ,  29.855,  30.85 ,  31.845,  32.84 ,  33.835,  34.83 ,\n",
       "         35.825,  36.82 ,  37.815,  38.81 ,  39.805,  40.8  ,  41.795,\n",
       "         42.79 ,  43.785,  44.78 ,  45.775,  46.77 ,  47.765,  48.76 ,\n",
       "         49.755,  50.75 ,  51.745,  52.74 ,  53.735,  54.73 ,  55.725,\n",
       "         56.72 ,  57.715,  58.71 ,  59.705,  60.7  ,  61.695,  62.69 ,\n",
       "         63.685,  64.68 ,  65.675,  66.67 ,  67.665,  68.66 ,  69.655,\n",
       "         70.65 ,  71.645,  72.64 ,  73.635,  74.63 ,  75.625,  76.62 ,\n",
       "         77.615,  78.61 ,  79.605,  80.6  ,  81.595,  82.59 ,  83.585,\n",
       "         84.58 ,  85.575,  86.57 ,  87.565,  88.56 ,  89.555,  90.55 ,\n",
       "         91.545,  92.54 ,  93.535,  94.53 ,  95.525,  96.52 ,  97.515,\n",
       "         98.51 ,  99.505, 100.5  , 101.495, 102.49 , 103.485, 104.48 ,\n",
       "        105.475, 106.47 , 107.465, 108.46 , 109.455, 110.45 , 111.445,\n",
       "        112.44 , 113.435, 114.43 , 115.425, 116.42 , 117.415, 118.41 ,\n",
       "        119.405, 120.4  , 121.395, 122.39 , 123.385, 124.38 , 125.375,\n",
       "        126.37 , 127.365, 128.36 , 129.355, 130.35 , 131.345, 132.34 ,\n",
       "        133.335, 134.33 , 135.325, 136.32 , 137.315, 138.31 , 139.305,\n",
       "        140.3  , 141.295, 142.29 , 143.285, 144.28 , 145.275, 146.27 ,\n",
       "        147.265, 148.26 , 149.255, 150.25 , 151.245, 152.24 , 153.235,\n",
       "        154.23 , 155.225, 156.22 , 157.215, 158.21 , 159.205, 160.2  ,\n",
       "        161.195, 162.19 , 163.185, 164.18 , 165.175, 166.17 , 167.165,\n",
       "        168.16 , 169.155, 170.15 , 171.145, 172.14 , 173.135, 174.13 ,\n",
       "        175.125, 176.12 , 177.115, 178.11 , 179.105, 180.1  , 181.095,\n",
       "        182.09 , 183.085, 184.08 , 185.075, 186.07 , 187.065, 188.06 ,\n",
       "        189.055, 190.05 , 191.045, 192.04 , 193.035, 194.03 , 195.025,\n",
       "        196.02 , 197.015, 198.01 , 199.005, 200.   ]),\n",
       " <BarContainer object of 200 artists>)"
      ]
     },
     "execution_count": 16,
     "metadata": {},
     "output_type": "execute_result"
    },
    {
     "data": {
      "image/png": "[encoded data removed]",
      "text/plain": [
       "<Figure size 432x288 with 1 Axes>"
      ]
     },
     "metadata": {
      "needs_background": "light"
     },
     "output_type": "display_data"
    }
   ],
   "source": [
    "plt.hist(z, bins=200)"
   ]
  },
  {
   "cell_type": "code",
   "execution_count": 17,
   "id": "dbe5102e",
   "metadata": {},
   "outputs": [
    {
     "data": {
      "text/plain": [
       "[<matplotlib.lines.Line2D at 0x154fedf3160>]"
      ]
     },
     "execution_count": 17,
     "metadata": {},
     "output_type": "execute_result"
    },
    {
     "data": {
      "image/png": "[encoded data removed]",
      "text/plain": [
       "<Figure size 432x288 with 1 Axes>"
      ]
     },
     "metadata": {
      "needs_background": "light"
     },
     "output_type": "display_data"
    }
   ],
   "source": [
    "plt.plot(x,y)"
   ]
  },
  {
   "cell_type": "code",
   "execution_count": null,
   "id": "0f2be076",
   "metadata": {},
   "outputs": [],
   "source": []
  }
 ],
 "metadata": {
  "kernelspec": {
   "display_name": "Python 3 (ipykernel)",
   "language": "python",
   "name": "python3"
  },
  "language_info": {
   "codemirror_mode": {
    "name": "ipython",
    "version": 3
   },
   "file_extension": ".py",
   "mimetype": "text/x-python",
   "name": "python",
   "nbconvert_exporter": "python",
   "pygments_lexer": "ipython3",
   "version": "3.9.12"
  }
 },
 "nbformat": 4,
 "nbformat_minor": 5
}

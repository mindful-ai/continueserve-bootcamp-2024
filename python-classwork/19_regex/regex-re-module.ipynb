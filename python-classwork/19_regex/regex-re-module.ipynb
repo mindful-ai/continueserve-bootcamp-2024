{
 "cells": [
  {
   "cell_type": "markdown",
   "id": "b7b88d82",
   "metadata": {},
   "source": [
    "### The re Module"
   ]
  },
  {
   "cell_type": "code",
   "execution_count": 1,
   "id": "ffb4c9b5",
   "metadata": {},
   "outputs": [],
   "source": [
    "import re"
   ]
  },
  {
   "cell_type": "code",
   "execution_count": 2,
   "id": "b1a11d5e",
   "metadata": {},
   "outputs": [
    {
     "data": {
      "text/plain": [
       "<re.Match object; span=(0, 4), match='miss'>"
      ]
     },
     "execution_count": 2,
     "metadata": {},
     "output_type": "execute_result"
    }
   ],
   "source": [
    "text = \"mississippi\"\n",
    "pattern = \"miss\"\n",
    "re.match(pattern ,text)"
   ]
  },
  {
   "cell_type": "code",
   "execution_count": 3,
   "id": "9700d99d",
   "metadata": {},
   "outputs": [],
   "source": [
    "text = \"mississippi\"\n",
    "pattern = \"ipp\"\n",
    "re.match(pattern ,text)"
   ]
  },
  {
   "cell_type": "code",
   "execution_count": 4,
   "id": "22c7f59b",
   "metadata": {},
   "outputs": [
    {
     "data": {
      "text/plain": [
       "<re.Match object; span=(7, 10), match='ipp'>"
      ]
     },
     "execution_count": 4,
     "metadata": {},
     "output_type": "execute_result"
    }
   ],
   "source": [
    "text = \"mississippi\"\n",
    "pattern = \"ipp\"\n",
    "re.search(pattern ,text)"
   ]
  },
  {
   "cell_type": "code",
   "execution_count": 5,
   "id": "3d5a6ee3",
   "metadata": {},
   "outputs": [
    {
     "data": {
      "text/plain": [
       "['ss', 'ss']"
      ]
     },
     "execution_count": 5,
     "metadata": {},
     "output_type": "execute_result"
    }
   ],
   "source": [
    "text = \"mississippi\"\n",
    "pattern = \"ss\"\n",
    "re.findall(pattern ,text)"
   ]
  },
  {
   "cell_type": "code",
   "execution_count": 7,
   "id": "eac60178",
   "metadata": {},
   "outputs": [
    {
     "name": "stdout",
     "output_type": "stream",
     "text": [
      "ss  -->  (2, 4)\n",
      "ss  -->  (5, 7)\n"
     ]
    }
   ],
   "source": [
    "text = \"mississippi\"\n",
    "pattern = \"ss\"\n",
    "for m in re.finditer(pattern ,text):\n",
    "    print(m.group() , ' --> ' , m.span())"
   ]
  },
  {
   "cell_type": "code",
   "execution_count": 8,
   "id": "e73a68a9",
   "metadata": {},
   "outputs": [],
   "source": [
    "text = \"This statements 178.45 has two floating -90.56 point numbers\""
   ]
  },
  {
   "cell_type": "code",
   "execution_count": 13,
   "id": "d0add494",
   "metadata": {},
   "outputs": [],
   "source": [
    "pattern = r\"[-+]?\\d+\\.?\\d*\""
   ]
  },
  {
   "cell_type": "code",
   "execution_count": 10,
   "id": "5f93514c",
   "metadata": {},
   "outputs": [
    {
     "data": {
      "text/plain": [
       "<re.Match object; span=(16, 22), match='178.45'>"
      ]
     },
     "execution_count": 10,
     "metadata": {},
     "output_type": "execute_result"
    }
   ],
   "source": [
    "re.search(pattern ,text)"
   ]
  },
  {
   "cell_type": "code",
   "execution_count": 14,
   "id": "7e4f6fbe",
   "metadata": {},
   "outputs": [
    {
     "data": {
      "text/plain": [
       "['178.45', '-90.56']"
      ]
     },
     "execution_count": 14,
     "metadata": {},
     "output_type": "execute_result"
    }
   ],
   "source": [
    "re.findall(pattern ,text)"
   ]
  },
  {
   "cell_type": "code",
   "execution_count": 15,
   "id": "0d260505",
   "metadata": {},
   "outputs": [],
   "source": [
    "m = re.search(pattern ,text)"
   ]
  },
  {
   "cell_type": "code",
   "execution_count": 16,
   "id": "05404d64",
   "metadata": {},
   "outputs": [
    {
     "data": {
      "text/plain": [
       "'178.45'"
      ]
     },
     "execution_count": 16,
     "metadata": {},
     "output_type": "execute_result"
    }
   ],
   "source": [
    "m.group()"
   ]
  },
  {
   "cell_type": "code",
   "execution_count": 17,
   "id": "26b39bcd",
   "metadata": {},
   "outputs": [
    {
     "data": {
      "text/plain": [
       "(16, 22)"
      ]
     },
     "execution_count": 17,
     "metadata": {},
     "output_type": "execute_result"
    }
   ],
   "source": [
    "m.span()"
   ]
  },
  {
   "cell_type": "code",
   "execution_count": 18,
   "id": "12dfba2e",
   "metadata": {},
   "outputs": [
    {
     "data": {
      "text/plain": [
       "'178.45'"
      ]
     },
     "execution_count": 18,
     "metadata": {},
     "output_type": "execute_result"
    }
   ],
   "source": [
    "text[16:22]"
   ]
  },
  {
   "cell_type": "code",
   "execution_count": 19,
   "id": "378ba1f0",
   "metadata": {},
   "outputs": [
    {
     "data": {
      "text/plain": [
       "16"
      ]
     },
     "execution_count": 19,
     "metadata": {},
     "output_type": "execute_result"
    }
   ],
   "source": [
    "m.start()"
   ]
  },
  {
   "cell_type": "code",
   "execution_count": 20,
   "id": "3074f187",
   "metadata": {},
   "outputs": [
    {
     "data": {
      "text/plain": [
       "22"
      ]
     },
     "execution_count": 20,
     "metadata": {},
     "output_type": "execute_result"
    }
   ],
   "source": [
    "m.end()"
   ]
  },
  {
   "cell_type": "code",
   "execution_count": 23,
   "id": "b73872d9",
   "metadata": {},
   "outputs": [],
   "source": [
    "pattern = r\"([-+]?\\d+)\\.?(\\d*)\""
   ]
  },
  {
   "cell_type": "code",
   "execution_count": 24,
   "id": "33f66a04",
   "metadata": {},
   "outputs": [],
   "source": [
    "m = re.search(pattern ,text)"
   ]
  },
  {
   "cell_type": "code",
   "execution_count": 25,
   "id": "4c174eac",
   "metadata": {},
   "outputs": [
    {
     "data": {
      "text/plain": [
       "'178.45'"
      ]
     },
     "execution_count": 25,
     "metadata": {},
     "output_type": "execute_result"
    }
   ],
   "source": [
    "m.group()"
   ]
  },
  {
   "cell_type": "code",
   "execution_count": 26,
   "id": "26bed36e",
   "metadata": {},
   "outputs": [
    {
     "data": {
      "text/plain": [
       "('178', '45')"
      ]
     },
     "execution_count": 26,
     "metadata": {},
     "output_type": "execute_result"
    }
   ],
   "source": [
    "m.groups()"
   ]
  },
  {
   "cell_type": "code",
   "execution_count": 27,
   "id": "576d6b8b",
   "metadata": {},
   "outputs": [],
   "source": [
    "pattern = r\"(?P<decimal>[-+]?\\d+)\\.?(?P<fraction>\\d*)\""
   ]
  },
  {
   "cell_type": "code",
   "execution_count": 28,
   "id": "d2952076",
   "metadata": {},
   "outputs": [],
   "source": [
    "m = re.search(pattern ,text)"
   ]
  },
  {
   "cell_type": "code",
   "execution_count": 29,
   "id": "7c96b506",
   "metadata": {},
   "outputs": [
    {
     "data": {
      "text/plain": [
       "'178.45'"
      ]
     },
     "execution_count": 29,
     "metadata": {},
     "output_type": "execute_result"
    }
   ],
   "source": [
    "m.group()"
   ]
  },
  {
   "cell_type": "code",
   "execution_count": 30,
   "id": "780dae26",
   "metadata": {},
   "outputs": [
    {
     "data": {
      "text/plain": [
       "('178', '45')"
      ]
     },
     "execution_count": 30,
     "metadata": {},
     "output_type": "execute_result"
    }
   ],
   "source": [
    "m.groups()"
   ]
  },
  {
   "cell_type": "code",
   "execution_count": 31,
   "id": "7d36c881",
   "metadata": {},
   "outputs": [
    {
     "data": {
      "text/plain": [
       "{'decimal': '178', 'fraction': '45'}"
      ]
     },
     "execution_count": 31,
     "metadata": {},
     "output_type": "execute_result"
    }
   ],
   "source": [
    "m.groupdict()"
   ]
  },
  {
   "cell_type": "code",
   "execution_count": 32,
   "id": "54fa153b",
   "metadata": {},
   "outputs": [
    {
     "data": {
      "text/plain": [
       "'45'"
      ]
     },
     "execution_count": 32,
     "metadata": {},
     "output_type": "execute_result"
    }
   ],
   "source": [
    "m.groupdict()['fraction']"
   ]
  },
  {
   "cell_type": "markdown",
   "id": "5440d487",
   "metadata": {},
   "source": [
    "### 2. Metacharecters"
   ]
  },
  {
   "cell_type": "code",
   "execution_count": 33,
   "id": "c9e9b58f",
   "metadata": {},
   "outputs": [
    {
     "name": "stdout",
     "output_type": "stream",
     "text": [
      "a5555 matched in 'a5555b'\n",
      "a5555 matched in 'a55555b'\n",
      "a5555 matched in 'a555555b'\n"
     ]
    }
   ],
   "source": [
    "import re\n",
    "data = ['ab ', 'abc', 'a5e', 'a6f', '123 a6c anc', 'a5b', 'a55b', 'a555b', 'a5555b',\n",
    "        'a55555b', 'a555555b', 'a5xb', '1/4', '3+2=5', 'def ghi', 'abc ab']\n",
    "for item in data:\n",
    "\tm = re.search(r'a(55){2}', item)\n",
    "\tif m:\n",
    "\t\tprint (m.group() + ' matched in ' + '\\'' + item + '\\'')"
   ]
  },
  {
   "cell_type": "code",
   "execution_count": 34,
   "id": "07dcdcdd",
   "metadata": {},
   "outputs": [
    {
     "name": "stdout",
     "output_type": "stream",
     "text": [
      "abc matched in 'abc'\n",
      "a6c matched in '123 a6c anc'\n",
      "abc matched in 'abc ab'\n"
     ]
    }
   ],
   "source": [
    "import re\n",
    "data = ['ab ', 'abc', 'a5e', 'a6f', '123 a6c anc', 'a5b', 'a55b', 'a555b', 'a5555b',\n",
    "        'a55555b', 'a555555b', 'a5xb', '1/4', '3+2=5', 'def ghi', 'abc ab']\n",
    "for item in data:\n",
    "\tm = re.search(r'a.c', item)\n",
    "\tif m:\n",
    "\t\tprint (m.group() + ' matched in ' + '\\'' + item + '\\'')"
   ]
  },
  {
   "cell_type": "code",
   "execution_count": 35,
   "id": "2538e89e",
   "metadata": {},
   "outputs": [
    {
     "name": "stdout",
     "output_type": "stream",
     "text": [
      "3+2 matched in '3+2=5'\n"
     ]
    }
   ],
   "source": [
    "import re\n",
    "data = ['ab ', 'abc', 'a5e', 'a6f', '123 a6c anc', 'a5b', 'a55b', 'a555b', 'a5555b',\n",
    "        'a55555b', 'a555555b', 'a5xb', '1/4', '3+2=5', 'def ghi', 'abc ab']\n",
    "for item in data:\n",
    "\tm = re.search(r'3.2', item)\n",
    "\tif m:\n",
    "\t\tprint (m.group() + ' matched in ' + '\\'' + item + '\\'')"
   ]
  },
  {
   "cell_type": "code",
   "execution_count": 36,
   "id": "41e9716a",
   "metadata": {},
   "outputs": [
    {
     "name": "stdout",
     "output_type": "stream",
     "text": [
      "ab  matched in 'ab '\n",
      "abc matched in 'abc'\n",
      "a5e matched in 'a5e'\n",
      "a6f matched in 'a6f'\n",
      "a6c matched in '123 a6c anc'\n",
      "a5b matched in 'a5b'\n",
      "a55 matched in 'a55b'\n",
      "a55 matched in 'a555b'\n",
      "a55 matched in 'a5555b'\n",
      "a55 matched in 'a55555b'\n",
      "a55 matched in 'a555555b'\n",
      "a5x matched in 'a5xb'\n",
      "abc matched in 'abc ab'\n"
     ]
    }
   ],
   "source": [
    "import re\n",
    "data = ['ab ', 'abc', 'a5e', 'a6f', '123 a6c anc', 'a5b', 'a55b', 'a555b', 'a5555b',\n",
    "        'a55555b', 'a555555b', 'a5xb', '1/4', '3+2=5', 'def ghi', 'abc ab']\n",
    "for item in data:\n",
    "\tm = re.search(r'a..', item)\n",
    "\tif m:\n",
    "\t\tprint (m.group() + ' matched in ' + '\\'' + item + '\\'')"
   ]
  },
  {
   "cell_type": "code",
   "execution_count": 37,
   "id": "aa624929",
   "metadata": {},
   "outputs": [
    {
     "name": "stdout",
     "output_type": "stream",
     "text": [
      "a6c matched in '123 a6c anc'\n"
     ]
    }
   ],
   "source": [
    "import re\n",
    "data = ['ab ', 'abc', 'a5e', 'a6f', '123 a6c anc', 'a5b', 'a55b', 'a555b', 'a5555b',\n",
    "        'a55555b', 'a555555b', 'a5xb', '1/4', '3+2=5', 'def ghi', 'abc ab']\n",
    "for item in data:\n",
    "\tm = re.search(r'a[678]c', item)\n",
    "\tif m:\n",
    "\t\tprint (m.group() + ' matched in ' + '\\'' + item + '\\'')"
   ]
  },
  {
   "cell_type": "code",
   "execution_count": 38,
   "id": "a388d491",
   "metadata": {},
   "outputs": [
    {
     "name": "stdout",
     "output_type": "stream",
     "text": [
      "abc matched in 'abc'\n",
      "anc matched in '123 a6c anc'\n",
      "abc matched in 'abc ab'\n"
     ]
    }
   ],
   "source": [
    "import re\n",
    "data = ['ab ', 'abc', 'a5e', 'a6f', '123 a6c anc', 'a5b', 'a55b', 'a555b', 'a5555b',\n",
    "        'a55555b', 'a555555b', 'a5xb', '1/4', '3+2=5', 'def ghi', 'abc ab']\n",
    "for item in data:\n",
    "\tm = re.search(r'a[^678]c', item)\n",
    "\tif m:\n",
    "\t\tprint (m.group() + ' matched in ' + '\\'' + item + '\\'')"
   ]
  },
  {
   "cell_type": "code",
   "execution_count": 40,
   "id": "a01bb02f",
   "metadata": {},
   "outputs": [
    {
     "name": "stdout",
     "output_type": "stream",
     "text": [
      "anc matched in '123 a6c anc'\n"
     ]
    }
   ],
   "source": [
    "import re\n",
    "data = ['ab ', 'abc', 'a5e', 'a6f', '123 a6c anc', 'a5b', 'a55b', 'a555b', 'a5555b',\n",
    "        'a55555b', 'a555555b', 'a5xb', '1/4', '3+2=5', 'def ghi', 'abc ab']\n",
    "for item in data:\n",
    "\tm = re.search(r'a[acd-z]c', item)\n",
    "\tif m:\n",
    "\t\tprint (m.group() + ' matched in ' + '\\'' + item + '\\'')"
   ]
  },
  {
   "cell_type": "code",
   "execution_count": 41,
   "id": "db5fd929",
   "metadata": {},
   "outputs": [
    {
     "name": "stdout",
     "output_type": "stream",
     "text": [
      "a6c matched in '123 a6c anc'\n"
     ]
    }
   ],
   "source": [
    "import re\n",
    "data = ['ab ', 'abc', 'a5e', 'a6f', '123 a6c anc', 'a5b', 'a55b', 'a555b', 'a5555b',\n",
    "        'a55555b', 'a555555b', 'a5xb', '1/4', '3+2=5', 'def ghi', 'abc ab']\n",
    "for item in data:\n",
    "\tm = re.search(r'a[0-9]c', item)\n",
    "\tif m:\n",
    "\t\tprint (m.group() + ' matched in ' + '\\'' + item + '\\'')"
   ]
  },
  {
   "cell_type": "code",
   "execution_count": 43,
   "id": "2b5f1150",
   "metadata": {},
   "outputs": [
    {
     "name": "stdout",
     "output_type": "stream",
     "text": [
      "3+2 matched in '3+2=5'\n"
     ]
    }
   ],
   "source": [
    "import re\n",
    "data = ['ab ', 'abc', 'a5e', 'a6f', '123 a6c anc', 'a5b', 'a55b', 'a555b', 'a5555b',\n",
    "        'a55555b', 'a555555b', 'a5xb', '1/4', '3+2=5', 'def ghi', 'abc ab']\n",
    "for item in data:\n",
    "\tm = re.search(r'3\\+2', item)\n",
    "\tif m:\n",
    "\t\tprint (m.group() + ' matched in ' + '\\'' + item + '\\'')"
   ]
  },
  {
   "cell_type": "code",
   "execution_count": 44,
   "id": "fa78f0a8",
   "metadata": {},
   "outputs": [
    {
     "name": "stdout",
     "output_type": "stream",
     "text": [
      "ab matched in 'ab '\n",
      "ab matched in 'abc'\n",
      "a5 matched in 'a5e'\n",
      "a5 matched in 'a5b'\n",
      "a5 matched in 'a55b'\n",
      "a5 matched in 'a555b'\n",
      "a5 matched in 'a5555b'\n",
      "a5 matched in 'a55555b'\n",
      "a5 matched in 'a555555b'\n",
      "a5 matched in 'a5xb'\n",
      "ab matched in 'abc ab'\n"
     ]
    }
   ],
   "source": [
    "import re\n",
    "data = ['ab ', 'abc', 'a5e', 'a6f', '123 a6c anc', 'a5b', 'a55b', 'a555b', 'a5555b',\n",
    "        'a55555b', 'a555555b', 'a5xb', '1/4', '3+2=5', 'def ghi', 'abc ab']\n",
    "for item in data:\n",
    "\tm = re.search(r'a5|ab', item)\n",
    "\tif m:\n",
    "\t\tprint (m.group() + ' matched in ' + '\\'' + item + '\\'')"
   ]
  },
  {
   "cell_type": "code",
   "execution_count": 45,
   "id": "8e8226bb",
   "metadata": {},
   "outputs": [
    {
     "name": "stdout",
     "output_type": "stream",
     "text": [
      "a6c matched in '123 a6c anc'\n"
     ]
    }
   ],
   "source": [
    "import re\n",
    "data = ['ab ', 'abc', 'a5e', 'a6f', '123 a6c anc', 'a5b', 'a55b', 'a555b', 'a5555b',\n",
    "        'a55555b', 'a555555b', 'a5xb', '1/4', '3+2=5', 'def ghi', 'abc ab']\n",
    "for item in data:\n",
    "\tm = re.search(r'a\\dc', item)\n",
    "\tif m:\n",
    "\t\tprint (m.group() + ' matched in ' + '\\'' + item + '\\'')"
   ]
  },
  {
   "cell_type": "code",
   "execution_count": 47,
   "id": "cdaa0bbc",
   "metadata": {},
   "outputs": [
    {
     "name": "stdout",
     "output_type": "stream",
     "text": [
      "a5e matched in 'a5e'\n",
      "a6f matched in 'a6f'\n",
      "a6c matched in '123 a6c anc'\n",
      "a5b matched in 'a5b'\n",
      "a55 matched in 'a55b'\n",
      "a55 matched in 'a555b'\n",
      "a55 matched in 'a5555b'\n",
      "a55 matched in 'a55555b'\n",
      "a55 matched in 'a555555b'\n",
      "a5x matched in 'a5xb'\n"
     ]
    }
   ],
   "source": [
    "import re\n",
    "data = ['ab ', 'abc', 'a5e', 'a6f', '123 a6c anc', 'a5b', 'a55b', 'a555b', 'a5555b',\n",
    "        'a55555b', 'a555555b', 'a5xb', '1/4', '3+2=5', 'def ghi', 'abc ab']\n",
    "for item in data:\n",
    "\tm = re.search(r'a\\d\\w', item)\n",
    "\tif m:\n",
    "\t\tprint (m.group() + ' matched in ' + '\\'' + item + '\\'')"
   ]
  },
  {
   "cell_type": "code",
   "execution_count": 48,
   "id": "07e1d11e",
   "metadata": {},
   "outputs": [
    {
     "name": "stdout",
     "output_type": "stream",
     "text": [
      "a55 matched in 'a55b'\n",
      "a55 matched in 'a555b'\n",
      "a55 matched in 'a5555b'\n",
      "a55 matched in 'a55555b'\n",
      "a55 matched in 'a555555b'\n"
     ]
    }
   ],
   "source": [
    "import re\n",
    "data = ['ab ', 'abc', 'a5e', 'a6f', '123 a6c anc', 'a5b', 'a55b', 'a555b', 'a5555b',\n",
    "        'a55555b', 'a555555b', 'a5xb', '1/4', '3+2=5', 'def ghi', 'abc ab']\n",
    "for item in data:\n",
    "\tm = re.search(r'a\\d\\d', item)\n",
    "\tif m:\n",
    "\t\tprint (m.group() + ' matched in ' + '\\'' + item + '\\'')"
   ]
  },
  {
   "cell_type": "code",
   "execution_count": 49,
   "id": "0467da9e",
   "metadata": {},
   "outputs": [
    {
     "name": "stdout",
     "output_type": "stream",
     "text": [
      "123 a matched in '123 a6c anc'\n",
      "def g matched in 'def ghi'\n",
      "abc a matched in 'abc ab'\n"
     ]
    }
   ],
   "source": [
    "import re\n",
    "data = ['ab ', 'abc', 'a5e', 'a6f', '123 a6c anc', 'a5b', 'a55b', 'a555b', 'a5555b',\n",
    "        'a55555b', 'a555555b', 'a5xb', '1/4', '3+2=5', 'def ghi', 'abc ab']\n",
    "for item in data:\n",
    "\tm = re.search(r'...\\s.', item)\n",
    "\tif m:\n",
    "\t\tprint (m.group() + ' matched in ' + '\\'' + item + '\\'')"
   ]
  },
  {
   "cell_type": "code",
   "execution_count": 50,
   "id": "7d5c72f3",
   "metadata": {},
   "outputs": [
    {
     "name": "stdout",
     "output_type": "stream",
     "text": [
      "a6 matched in 'a6f'\n",
      "a6 matched in '123 a6c anc'\n"
     ]
    }
   ],
   "source": [
    "import re\n",
    "data = ['ab ', 'abc', 'a5e', 'a6f', '123 a6c anc', 'a5b', 'a55b', 'a555b', 'a5555b',\n",
    "        'a55555b', 'a555555b', 'a5xb', '1/4', '3+2=5', 'def ghi', 'abc ab']\n",
    "for item in data:\n",
    "\tm = re.search(r'a6', item)\n",
    "\tif m:\n",
    "\t\tprint (m.group() + ' matched in ' + '\\'' + item + '\\'')"
   ]
  },
  {
   "cell_type": "code",
   "execution_count": 51,
   "id": "b6fad2cc",
   "metadata": {},
   "outputs": [
    {
     "name": "stdout",
     "output_type": "stream",
     "text": [
      "a6 matched in 'a6f'\n"
     ]
    }
   ],
   "source": [
    "import re\n",
    "data = ['ab ', 'abc', 'a5e', 'a6f', '123 a6c anc', 'a5b', 'a55b', 'a555b', 'a5555b',\n",
    "        'a55555b', 'a555555b', 'a5xb', '1/4', '3+2=5', 'def ghi', 'abc ab']\n",
    "for item in data:\n",
    "\tm = re.search(r'^a6', item)\n",
    "\tif m:\n",
    "\t\tprint (m.group() + ' matched in ' + '\\'' + item + '\\'')"
   ]
  },
  {
   "cell_type": "code",
   "execution_count": 53,
   "id": "bbc03316",
   "metadata": {},
   "outputs": [
    {
     "name": "stdout",
     "output_type": "stream",
     "text": [
      "abc matched in 'abc'\n",
      "anc matched in '123 a6c anc'\n"
     ]
    }
   ],
   "source": [
    "import re\n",
    "data = ['ab ', 'abc', 'a5e', 'a6f', '123 a6c anc', 'a5b', 'a55b', 'a555b', 'a5555b',\n",
    "        'a55555b', 'a555555b', 'a5xb', '1/4', '3+2=5', 'def ghi', 'abc ab']\n",
    "for item in data:\n",
    "\tm = re.search(r'..c$', item)\n",
    "\tif m:\n",
    "\t\tprint (m.group() + ' matched in ' + '\\'' + item + '\\'')"
   ]
  },
  {
   "cell_type": "code",
   "execution_count": 54,
   "id": "e9a64692",
   "metadata": {},
   "outputs": [
    {
     "name": "stdout",
     "output_type": "stream",
     "text": [
      "ab matched in 'ab '\n",
      "ab matched in 'abc ab'\n"
     ]
    }
   ],
   "source": [
    "import re\n",
    "data = ['ab ', 'abc', 'a5e', 'a6f', '123 a6c anc', 'a5b', 'a55b', 'a555b', 'a5555b',\n",
    "        'a55555b', 'a555555b', 'a5xb', '1/4', '3+2=5', 'def ghi', 'abc ab']\n",
    "for item in data:\n",
    "\tm = re.search(r'ab\\b', item)\n",
    "\tif m:\n",
    "\t\tprint (m.group() + ' matched in ' + '\\'' + item + '\\'')"
   ]
  },
  {
   "cell_type": "code",
   "execution_count": 55,
   "id": "b7874695",
   "metadata": {},
   "outputs": [
    {
     "name": "stdout",
     "output_type": "stream",
     "text": [
      "ab matched in 'abc'\n",
      "ab matched in 'abc ab'\n"
     ]
    }
   ],
   "source": [
    "import re\n",
    "data = ['ab ', 'abc', 'a5e', 'a6f', '123 a6c anc', 'a5b', 'a55b', 'a555b', 'a5555b',\n",
    "        'a55555b', 'a555555b', 'a5xb', '1/4', '3+2=5', 'def ghi', 'abc ab']\n",
    "for item in data:\n",
    "\tm = re.search(r'ab\\B', item)\n",
    "\tif m:\n",
    "\t\tprint (m.group() + ' matched in ' + '\\'' + item + '\\'')"
   ]
  },
  {
   "cell_type": "code",
   "execution_count": 56,
   "id": "fa5ce84b",
   "metadata": {},
   "outputs": [
    {
     "name": "stdout",
     "output_type": "stream",
     "text": [
      "a55 matched in 'a55b'\n",
      "a555 matched in 'a555b'\n",
      "a5555 matched in 'a5555b'\n",
      "a55555 matched in 'a55555b'\n",
      "a555555 matched in 'a555555b'\n"
     ]
    }
   ],
   "source": [
    "import re\n",
    "data = ['ab ', 'abc', 'a5e', 'a6f', '123 a6c anc', 'a5b', 'a55b', 'a555b', 'a5555b',\n",
    "        'a55555b', 'a555555b', 'a5xb', '1/4', '3+2=5', 'def ghi', 'abc ab']\n",
    "for item in data:\n",
    "\tm = re.search(r'a555*', item)\n",
    "\tif m:\n",
    "\t\tprint (m.group() + ' matched in ' + '\\'' + item + '\\'')"
   ]
  },
  {
   "cell_type": "code",
   "execution_count": 57,
   "id": "5e357f92",
   "metadata": {},
   "outputs": [
    {
     "name": "stdout",
     "output_type": "stream",
     "text": [
      "a555 matched in 'a555b'\n",
      "a5555 matched in 'a5555b'\n",
      "a55555 matched in 'a55555b'\n",
      "a555555 matched in 'a555555b'\n"
     ]
    }
   ],
   "source": [
    "import re\n",
    "data = ['ab ', 'abc', 'a5e', 'a6f', '123 a6c anc', 'a5b', 'a55b', 'a555b', 'a5555b',\n",
    "        'a55555b', 'a555555b', 'a5xb', '1/4', '3+2=5', 'def ghi', 'abc ab']\n",
    "for item in data:\n",
    "\tm = re.search(r'a555+', item)\n",
    "\tif m:\n",
    "\t\tprint (m.group() + ' matched in ' + '\\'' + item + '\\'')"
   ]
  },
  {
   "cell_type": "code",
   "execution_count": 58,
   "id": "51bb1d9a",
   "metadata": {},
   "outputs": [
    {
     "name": "stdout",
     "output_type": "stream",
     "text": [
      "a55 matched in 'a55b'\n",
      "a55 matched in 'a555b'\n",
      "a5555 matched in 'a5555b'\n",
      "a5555 matched in 'a55555b'\n",
      "a5555 matched in 'a555555b'\n"
     ]
    }
   ],
   "source": [
    "import re\n",
    "data = ['ab ', 'abc', 'a5e', 'a6f', '123 a6c anc', 'a5b', 'a55b', 'a555b', 'a5555b',\n",
    "        'a55555b', 'a555555b', 'a5xb', '1/4', '3+2=5', 'def ghi', 'abc ab']\n",
    "for item in data:\n",
    "\tm = re.search(r'a55(55)?', item)\n",
    "\tif m:\n",
    "\t\tprint (m.group() + ' matched in ' + '\\'' + item + '\\'')"
   ]
  },
  {
   "cell_type": "code",
   "execution_count": 66,
   "id": "bde8ea30",
   "metadata": {},
   "outputs": [
    {
     "name": "stdout",
     "output_type": "stream",
     "text": [
      "a5555 matched in 'a5555b'\n",
      "a5555 matched in 'a55555b'\n",
      "a5555 matched in 'a555555b'\n"
     ]
    }
   ],
   "source": [
    "import re\n",
    "data = ['ab ', 'abc', 'a5e', 'a6f', '123 a6c anc', 'a5b', 'a55b', 'a555b', 'a5555b',\n",
    "        'a55555b', 'a555555b', 'a5xb', '1/4', '3+2=5', 'def ghi', 'abc ab']\n",
    "for item in data:\n",
    "\tm = re.search(r'a555{2}', item)\n",
    "\tif m:\n",
    "\t\tprint (m.group() + ' matched in ' + '\\'' + item + '\\'')"
   ]
  },
  {
   "cell_type": "code",
   "execution_count": 65,
   "id": "f1da20cf",
   "metadata": {},
   "outputs": [
    {
     "name": "stdout",
     "output_type": "stream",
     "text": [
      "a5555 matched in 'a5555b'\n",
      "a55555 matched in 'a55555b'\n",
      "a555555 matched in 'a555555b'\n"
     ]
    }
   ],
   "source": [
    "import re\n",
    "data = ['ab ', 'abc', 'a5e', 'a6f', '123 a6c anc', 'a5b', 'a55b', 'a555b', 'a5555b',\n",
    "        'a55555b', 'a555555b', 'a5xb', '1/4', '3+2=5', 'def ghi', 'abc ab']\n",
    "for item in data:\n",
    "\tm = re.search(r'a555{2,4}', item)\n",
    "\tif m:\n",
    "\t\tprint (m.group() + ' matched in ' + '\\'' + item + '\\'')"
   ]
  },
  {
   "cell_type": "code",
   "execution_count": 64,
   "id": "08fc45e7",
   "metadata": {},
   "outputs": [
    {
     "name": "stdout",
     "output_type": "stream",
     "text": [
      "a5555 matched in 'a5555b'\n",
      "a55555 matched in 'a55555b'\n",
      "a555555 matched in 'a555555b'\n"
     ]
    }
   ],
   "source": [
    "import re\n",
    "data = ['ab ', 'abc', 'a5e', 'a6f', '123 a6c anc', 'a5b', 'a55b', 'a555b', 'a5555b',\n",
    "        'a55555b', 'a555555b', 'a5xb', '1/4', '3+2=5', 'def ghi', 'abc ab']\n",
    "for item in data:\n",
    "\tm = re.search(r'a555{2,}', item)\n",
    "\tif m:\n",
    "\t\tprint (m.group() + ' matched in ' + '\\'' + item + '\\'')"
   ]
  },
  {
   "cell_type": "code",
   "execution_count": 63,
   "id": "15f08ee2",
   "metadata": {},
   "outputs": [
    {
     "name": "stdout",
     "output_type": "stream",
     "text": [
      "a55 matched in 'a55b'\n",
      "a555 matched in 'a555b'\n",
      "a5555 matched in 'a5555b'\n",
      "a55555 matched in 'a55555b'\n",
      "a555555 matched in 'a555555b'\n"
     ]
    }
   ],
   "source": [
    "import re\n",
    "data = ['ab ', 'abc', 'a5e', 'a6f', '123 a6c anc', 'a5b', 'a55b', 'a555b', 'a5555b',\n",
    "        'a55555b', 'a555555b', 'a5xb', '1/4', '3+2=5', 'def ghi', 'abc ab']\n",
    "for item in data:\n",
    "\tm = re.search(r'a555{,4}', item)\n",
    "\tif m:\n",
    "\t\tprint (m.group() + ' matched in ' + '\\'' + item + '\\'')"
   ]
  },
  {
   "cell_type": "code",
   "execution_count": null,
   "id": "922c85bc",
   "metadata": {},
   "outputs": [],
   "source": []
  }
 ],
 "metadata": {
  "kernelspec": {
   "display_name": "Python 3 (ipykernel)",
   "language": "python",
   "name": "python3"
  },
  "language_info": {
   "codemirror_mode": {
    "name": "ipython",
    "version": 3
   },
   "file_extension": ".py",
   "mimetype": "text/x-python",
   "name": "python",
   "nbconvert_exporter": "python",
   "pygments_lexer": "ipython3",
   "version": "3.9.12"
  }
 },
 "nbformat": 4,
 "nbformat_minor": 5
}

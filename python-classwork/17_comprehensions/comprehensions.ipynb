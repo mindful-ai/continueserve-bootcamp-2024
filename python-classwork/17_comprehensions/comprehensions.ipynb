{
 "cells": [
  {
   "cell_type": "markdown",
   "id": "00ffffee",
   "metadata": {},
   "source": [
    "[], {}, ()\n",
    "[<expr><loop><option:condition>]"
   ]
  },
  {
   "cell_type": "code",
   "execution_count": 1,
   "id": "e0d7a63f",
   "metadata": {},
   "outputs": [
    {
     "data": {
      "text/plain": [
       "[1, 4, 9, 16, 25]"
      ]
     },
     "execution_count": 1,
     "metadata": {},
     "output_type": "execute_result"
    }
   ],
   "source": [
    "[x**2 for x in range(1, 6)]"
   ]
  },
  {
   "cell_type": "code",
   "execution_count": 3,
   "id": "8e6a5f3f",
   "metadata": {},
   "outputs": [
    {
     "data": {
      "text/plain": [
       "[0, 4, 16, 36, 64]"
      ]
     },
     "execution_count": 3,
     "metadata": {},
     "output_type": "execute_result"
    }
   ],
   "source": [
    "[x**2 for x in range(10) if x % 2 == 0]"
   ]
  },
  {
   "cell_type": "code",
   "execution_count": 4,
   "id": "67ec1ba5",
   "metadata": {},
   "outputs": [
    {
     "data": {
      "text/plain": [
       "[(1, 1, 1), (2, 4, 8), (3, 9, 27), (4, 16, 64), (5, 25, 125)]"
      ]
     },
     "execution_count": 4,
     "metadata": {},
     "output_type": "execute_result"
    }
   ],
   "source": [
    "[ (x, x**2, x**3) for x in range(1, 6)]"
   ]
  },
  {
   "cell_type": "code",
   "execution_count": 5,
   "id": "3bb995fb",
   "metadata": {},
   "outputs": [],
   "source": [
    "L = [\"red\", \"green\", \"blue\", \"yellow\"]"
   ]
  },
  {
   "cell_type": "code",
   "execution_count": 6,
   "id": "e7e2851a",
   "metadata": {},
   "outputs": [
    {
     "data": {
      "text/plain": [
       "{'red': 3, 'green': 5, 'blue': 4, 'yellow': 6}"
      ]
     },
     "execution_count": 6,
     "metadata": {},
     "output_type": "execute_result"
    }
   ],
   "source": [
    "{ s:len(s) for s in L}"
   ]
  },
  {
   "cell_type": "code",
   "execution_count": 8,
   "id": "1721fb5d",
   "metadata": {},
   "outputs": [
    {
     "data": {
      "text/plain": [
       "[1, 2, 3, 4, 5, 6, 7, 8, 9, 10]"
      ]
     },
     "execution_count": 8,
     "metadata": {},
     "output_type": "execute_result"
    }
   ],
   "source": [
    "N = list(range(1, 11))\n",
    "N"
   ]
  },
  {
   "cell_type": "code",
   "execution_count": 10,
   "id": "16443d31",
   "metadata": {},
   "outputs": [
    {
     "data": {
      "text/plain": [
       "[9, 36, 81]"
      ]
     },
     "execution_count": 10,
     "metadata": {},
     "output_type": "execute_result"
    }
   ],
   "source": [
    "list( x**2 for x in N if x % 3 == 0 )"
   ]
  },
  {
   "cell_type": "code",
   "execution_count": 11,
   "id": "dbbf7a9a",
   "metadata": {},
   "outputs": [
    {
     "data": {
      "text/plain": [
       "[1, 2, 9, 4, 5, 36, 7, 8, 81, 10]"
      ]
     },
     "execution_count": 11,
     "metadata": {},
     "output_type": "execute_result"
    }
   ],
   "source": [
    "list( x**2 if x % 3 == 0 else x for x in N )"
   ]
  },
  {
   "cell_type": "code",
   "execution_count": 12,
   "id": "4aba4e78",
   "metadata": {},
   "outputs": [],
   "source": [
    "L = [ [1, 2, 3], [4, 5, 6], [7, 8, 9]]"
   ]
  },
  {
   "cell_type": "code",
   "execution_count": 13,
   "id": "2454f11a",
   "metadata": {},
   "outputs": [
    {
     "data": {
      "text/plain": [
       "[[3, 2, 1], [6, 5, 4], [9, 8, 7]]"
      ]
     },
     "execution_count": 13,
     "metadata": {},
     "output_type": "execute_result"
    }
   ],
   "source": [
    "[ x[::-1] for x in L ]"
   ]
  },
  {
   "cell_type": "code",
   "execution_count": null,
   "id": "759e96f6",
   "metadata": {},
   "outputs": [],
   "source": []
  }
 ],
 "metadata": {
  "kernelspec": {
   "display_name": "Python 3 (ipykernel)",
   "language": "python",
   "name": "python3"
  },
  "language_info": {
   "codemirror_mode": {
    "name": "ipython",
    "version": 3
   },
   "file_extension": ".py",
   "mimetype": "text/x-python",
   "name": "python",
   "nbconvert_exporter": "python",
   "pygments_lexer": "ipython3",
   "version": "3.9.12"
  }
 },
 "nbformat": 4,
 "nbformat_minor": 5
}

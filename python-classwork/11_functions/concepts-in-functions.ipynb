{
 "cells": [
  {
   "cell_type": "markdown",
   "id": "930dc113",
   "metadata": {},
   "source": [
    "### Scope of variables"
   ]
  },
  {
   "cell_type": "code",
   "execution_count": 5,
   "id": "8288b9b9",
   "metadata": {},
   "outputs": [
    {
     "name": "stdout",
     "output_type": "stream",
     "text": [
      "Variable value ->  5\n",
      "Variable value ->  6\n"
     ]
    }
   ],
   "source": [
    "a = 10 # global declaration\n",
    "\n",
    "def func1():\n",
    "    a = 5 # local declaration\n",
    "    print(\"Variable value -> \", a)\n",
    "    \n",
    "def func2():\n",
    "    a = 6 # local declaration\n",
    "    print(\"Variable value -> \", a)\n",
    "\n",
    "func1()\n",
    "func2()"
   ]
  },
  {
   "cell_type": "code",
   "execution_count": 11,
   "id": "6a6e5740",
   "metadata": {},
   "outputs": [
    {
     "name": "stdout",
     "output_type": "stream",
     "text": [
      "Variable value ->  6\n",
      "Variable value ->  11\n"
     ]
    }
   ],
   "source": [
    "a = 10 # global declaration\n",
    "\n",
    "def func1():\n",
    "    a = 5 # local declaration\n",
    "    a += 1\n",
    "    print(\"Variable value -> \", a)\n",
    "    \n",
    "def func2():\n",
    "    global a\n",
    "    a += 1\n",
    "    print(\"Variable value -> \", a)\n",
    "\n",
    "func1()\n",
    "func2()"
   ]
  },
  {
   "cell_type": "code",
   "execution_count": 8,
   "id": "ee4a7bec",
   "metadata": {},
   "outputs": [
    {
     "name": "stdout",
     "output_type": "stream",
     "text": [
      "Variable value ->  30\n"
     ]
    }
   ],
   "source": [
    "a = 10\n",
    "\n",
    "def func3():\n",
    "    a = 20\n",
    "    def func4():\n",
    "        a = 30\n",
    "        print(\"Variable value -> \", a)\n",
    "    func4()\n",
    "func3()"
   ]
  },
  {
   "cell_type": "code",
   "execution_count": 9,
   "id": "f6810218",
   "metadata": {},
   "outputs": [
    {
     "name": "stdout",
     "output_type": "stream",
     "text": [
      "Variable value ->  10\n"
     ]
    }
   ],
   "source": [
    "a = 10\n",
    "\n",
    "def func3():\n",
    "    a = 20 # nonlocal declaration\n",
    "    def func4():\n",
    "        global a\n",
    "        print(\"Variable value -> \", a)\n",
    "    func4()\n",
    "func3()"
   ]
  },
  {
   "cell_type": "code",
   "execution_count": 10,
   "id": "e8275c68",
   "metadata": {},
   "outputs": [
    {
     "name": "stdout",
     "output_type": "stream",
     "text": [
      "Variable value ->  20\n"
     ]
    }
   ],
   "source": [
    "a = 10\n",
    "\n",
    "def func3():\n",
    "    a = 20 # nonlocal declaration\n",
    "    def func4():\n",
    "        nonlocal a\n",
    "        print(\"Variable value -> \", a)\n",
    "    func4()\n",
    "func3()"
   ]
  },
  {
   "cell_type": "markdown",
   "id": "853c4a4f",
   "metadata": {},
   "source": [
    "#### Best practice: avoid using the global variable as much as possible"
   ]
  },
  {
   "cell_type": "code",
   "execution_count": 13,
   "id": "48ef7c37",
   "metadata": {},
   "outputs": [
    {
     "name": "stdout",
     "output_type": "stream",
     "text": [
      "The name is Anil and age is 35\n"
     ]
    }
   ],
   "source": [
    "def printmsg(name, age):\n",
    "    print(\"The name is {} and age is {}\".format(name, age))\n",
    "\n",
    "printmsg('Anil', 35)"
   ]
  },
  {
   "cell_type": "code",
   "execution_count": 14,
   "id": "e3f65114",
   "metadata": {},
   "outputs": [
    {
     "ename": "TypeError",
     "evalue": "printmsg() missing 1 required positional argument: 'age'",
     "output_type": "error",
     "traceback": [
      "\u001b[1;31m---------------------------------------------------------------------------\u001b[0m",
      "\u001b[1;31mTypeError\u001b[0m                                 Traceback (most recent call last)",
      "Input \u001b[1;32mIn [14]\u001b[0m, in \u001b[0;36m<cell line: 1>\u001b[1;34m()\u001b[0m\n\u001b[1;32m----> 1\u001b[0m \u001b[43mprintmsg\u001b[49m\u001b[43m(\u001b[49m\u001b[38;5;124;43m'\u001b[39;49m\u001b[38;5;124;43mAnil\u001b[39;49m\u001b[38;5;124;43m'\u001b[39;49m\u001b[43m)\u001b[49m\n",
      "\u001b[1;31mTypeError\u001b[0m: printmsg() missing 1 required positional argument: 'age'"
     ]
    }
   ],
   "source": [
    "printmsg('Anil')"
   ]
  },
  {
   "cell_type": "code",
   "execution_count": 15,
   "id": "11fb0f7c",
   "metadata": {},
   "outputs": [
    {
     "name": "stdout",
     "output_type": "stream",
     "text": [
      "The name is Anil and age is 99\n"
     ]
    }
   ],
   "source": [
    "def printmsg(name, age=99):\n",
    "    print(\"The name is {} and age is {}\".format(name, age))\n",
    "\n",
    "printmsg('Anil')"
   ]
  },
  {
   "cell_type": "code",
   "execution_count": 16,
   "id": "f5f1fd3a",
   "metadata": {},
   "outputs": [
    {
     "name": "stdout",
     "output_type": "stream",
     "text": [
      "The name is Anil and age is 60\n"
     ]
    }
   ],
   "source": [
    "printmsg('Anil', 60)"
   ]
  },
  {
   "cell_type": "markdown",
   "id": "9b095a6c",
   "metadata": {},
   "source": [
    "name -> required argument\n",
    "age  -> optional argument\n",
    "Rule: write all the optional arguments with default values after the required arguments\n",
    "    "
   ]
  },
  {
   "cell_type": "code",
   "execution_count": 17,
   "id": "00a8042b",
   "metadata": {},
   "outputs": [
    {
     "name": "stdout",
     "output_type": "stream",
     "text": [
      "The name is John Doe and age is 99\n"
     ]
    }
   ],
   "source": [
    "def printmsg(name=\"John Doe\", age=99):\n",
    "    print(\"The name is {} and age is {}\".format(name, age))\n",
    "\n",
    "printmsg()"
   ]
  },
  {
   "cell_type": "code",
   "execution_count": 18,
   "id": "5902e318",
   "metadata": {},
   "outputs": [
    {
     "name": "stdout",
     "output_type": "stream",
     "text": [
      "The name is John Doe and age is 45\n"
     ]
    }
   ],
   "source": [
    "printmsg(age=45)"
   ]
  },
  {
   "cell_type": "markdown",
   "id": "5c15b183",
   "metadata": {},
   "source": [
    "Note: The order will not matter for passing arguments if key words assignments are user"
   ]
  },
  {
   "cell_type": "code",
   "execution_count": 19,
   "id": "5f1b4304",
   "metadata": {},
   "outputs": [
    {
     "name": "stdout",
     "output_type": "stream",
     "text": [
      "12.0\n"
     ]
    }
   ],
   "source": [
    "def average(a, b, c):\n",
    "    return (a + b + c) / 3\n",
    "\n",
    "print(average(10, 12, 14))"
   ]
  },
  {
   "cell_type": "code",
   "execution_count": 22,
   "id": "162f373e",
   "metadata": {},
   "outputs": [
    {
     "name": "stdout",
     "output_type": "stream",
     "text": [
      "(1, 2, 3, 4, 5)\n"
     ]
    },
    {
     "data": {
      "text/plain": [
       "3.0"
      ]
     },
     "execution_count": 22,
     "metadata": {},
     "output_type": "execute_result"
    }
   ],
   "source": [
    "def average(*x):\n",
    "    print(x)\n",
    "    return sum(x)/len(x)\n",
    "    \n",
    "average(1, 2, 3, 4, 5)"
   ]
  },
  {
   "cell_type": "code",
   "execution_count": 23,
   "id": "d2e2fe03",
   "metadata": {},
   "outputs": [
    {
     "name": "stdout",
     "output_type": "stream",
     "text": [
      "(1, 2, 3, 4, 5, 5)\n"
     ]
    },
    {
     "data": {
      "text/plain": [
       "3.3333333333333335"
      ]
     },
     "execution_count": 23,
     "metadata": {},
     "output_type": "execute_result"
    }
   ],
   "source": [
    "average(1, 2, 3, 4, 5, 5)"
   ]
  },
  {
   "cell_type": "code",
   "execution_count": 24,
   "id": "047b7081",
   "metadata": {},
   "outputs": [
    {
     "name": "stdout",
     "output_type": "stream",
     "text": [
      "(1, 2, 3, 4, 5, 5, 5, 6, 7, 8)\n"
     ]
    },
    {
     "data": {
      "text/plain": [
       "4.6"
      ]
     },
     "execution_count": 24,
     "metadata": {},
     "output_type": "execute_result"
    }
   ],
   "source": [
    "average(1, 2, 3, 4, 5, 5, 5 , 6, 7, 8)"
   ]
  },
  {
   "cell_type": "code",
   "execution_count": 33,
   "id": "c5355175",
   "metadata": {},
   "outputs": [],
   "source": [
    "def func(a, b, c, *targs, **kargs):\n",
    "    print(a, b, c)\n",
    "    print(targs)\n",
    "    print(kargs)"
   ]
  },
  {
   "cell_type": "code",
   "execution_count": 34,
   "id": "c3c682ea",
   "metadata": {},
   "outputs": [
    {
     "name": "stdout",
     "output_type": "stream",
     "text": [
      "10 2 1\n",
      "()\n",
      "{}\n"
     ]
    }
   ],
   "source": [
    "func(10, 2, 1)"
   ]
  },
  {
   "cell_type": "code",
   "execution_count": 35,
   "id": "ed254d02",
   "metadata": {},
   "outputs": [
    {
     "name": "stdout",
     "output_type": "stream",
     "text": [
      "10 2 23\n",
      "(34, 56)\n",
      "{}\n"
     ]
    }
   ],
   "source": [
    "func(10, 2, 23 ,34, 56)"
   ]
  },
  {
   "cell_type": "code",
   "execution_count": 36,
   "id": "71e13d2c",
   "metadata": {},
   "outputs": [
    {
     "name": "stdout",
     "output_type": "stream",
     "text": [
      "10 2 3\n",
      "(4, 5)\n",
      "{'name': 'anil', 'age': 35, 'company': 'continuserve'}\n"
     ]
    }
   ],
   "source": [
    "func(10, 2, 3, 4, 5, name=\"anil\", age=35, company=\"continuserve\")"
   ]
  },
  {
   "cell_type": "markdown",
   "id": "db60eca5",
   "metadata": {},
   "source": [
    "##### Note: Sequence of arguments: positional -> targs -> kargs"
   ]
  },
  {
   "cell_type": "markdown",
   "id": "44d395eb",
   "metadata": {},
   "source": [
    "### Recursive functions"
   ]
  },
  {
   "cell_type": "code",
   "execution_count": 37,
   "id": "8a2db8a3",
   "metadata": {},
   "outputs": [],
   "source": [
    "# function to calulate factorial of the number\n",
    "def fact(n):\n",
    "    if(n == 1):\n",
    "        return 1\n",
    "    else:\n",
    "        return n * fact(n - 1)"
   ]
  },
  {
   "cell_type": "code",
   "execution_count": 38,
   "id": "6122db63",
   "metadata": {},
   "outputs": [
    {
     "data": {
      "text/plain": [
       "3628800"
      ]
     },
     "execution_count": 38,
     "metadata": {},
     "output_type": "execute_result"
    }
   ],
   "source": [
    "fact(10)"
   ]
  },
  {
   "cell_type": "code",
   "execution_count": null,
   "id": "642f6a99",
   "metadata": {},
   "outputs": [],
   "source": []
  }
 ],
 "metadata": {
  "kernelspec": {
   "display_name": "Python 3 (ipykernel)",
   "language": "python",
   "name": "python3"
  },
  "language_info": {
   "codemirror_mode": {
    "name": "ipython",
    "version": 3
   },
   "file_extension": ".py",
   "mimetype": "text/x-python",
   "name": "python",
   "nbconvert_exporter": "python",
   "pygments_lexer": "ipython3",
   "version": "3.9.12"
  }
 },
 "nbformat": 4,
 "nbformat_minor": 5
}

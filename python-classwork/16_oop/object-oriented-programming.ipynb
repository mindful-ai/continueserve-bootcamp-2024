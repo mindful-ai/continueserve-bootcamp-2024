{
 "cells": [
  {
   "cell_type": "markdown",
   "id": "da338bbc",
   "metadata": {},
   "source": [
    "### 1. Classes and Objects"
   ]
  },
  {
   "cell_type": "code",
   "execution_count": 3,
   "id": "8efb767f",
   "metadata": {},
   "outputs": [],
   "source": [
    "class Student:\n",
    "    \n",
    "    nstudents = 0\n",
    "    \n",
    "    # Attributes\n",
    "    def __init__(self, name='', grade='', r='000000'):\n",
    "        self.name = name\n",
    "        self.grade = grade\n",
    "        self.age = 0\n",
    "        self.rollno = r\n",
    "        self.marks = {'phy':0, 'chem':0, 'math':0, 'bio':0}\n",
    "        Student.nstudents += 1\n",
    "    \n",
    "    # Functions\n",
    "    def printInfo(self):\n",
    "        print('-'*50)\n",
    "        print('NAME     : ', self.name)\n",
    "        print('AGE      : ', self.age)\n",
    "        print('ROLL NO. : ', self.rollno)\n",
    "        print('CLASS    : ', self.grade)\n",
    "        print('-'*50)\n",
    "        print('PHYSICS    : ', self.marks['phy'])\n",
    "        print('CHEMISTRY  : ', self.marks['chem'])\n",
    "        print('MATHS      : ', self.marks['math'])\n",
    "        print('BIOLOGY    : ', self.marks['bio'])\n",
    "        print('-'*50)\n",
    "        print('AVERAGE    : ', self.avg)\n",
    "        \n",
    "    \n",
    "    def calcAverage(self):\n",
    "        self.avg = sum(self.marks.values())/4;\n",
    "    \n",
    "    def setMarks(self, sub, marks):\n",
    "        if sub in self.marks.keys():\n",
    "            self.marks[sub] = marks\n",
    "            \n",
    "    def setAttrib(self, attr, value):\n",
    "        if attr in ['name', 'age', 'grade', 'rollno']:\n",
    "            if(attr == 'name'):\n",
    "                self.name = value\n",
    "            elif(attr == 'age'):\n",
    "                self.age = value\n",
    "            elif(attr == 'grade'):\n",
    "                self.grade = value\n",
    "            else:\n",
    "                self.rollno = value"
   ]
  },
  {
   "cell_type": "code",
   "execution_count": 4,
   "id": "79b75a4d",
   "metadata": {},
   "outputs": [],
   "source": [
    "s1 = Student()\n",
    "s2 = Student(name='Anil')\n",
    "s3 = Student('Sunil', '4')\n",
    "s4 = Student('Raj', '5', 'SV0012')"
   ]
  },
  {
   "cell_type": "code",
   "execution_count": 5,
   "id": "ff629142",
   "metadata": {},
   "outputs": [
    {
     "name": "stdout",
     "output_type": "stream",
     "text": [
      "--------------------------------------------------\n",
      "NAME     :  \n",
      "AGE      :  0\n",
      "ROLL NO. :  000000\n",
      "CLASS    :  \n",
      "--------------------------------------------------\n",
      "PHYSICS    :  0\n",
      "CHEMISTRY  :  0\n",
      "MATHS      :  0\n",
      "BIOLOGY    :  0\n",
      "--------------------------------------------------\n"
     ]
    },
    {
     "ename": "AttributeError",
     "evalue": "'Student' object has no attribute 'avg'",
     "output_type": "error",
     "traceback": [
      "\u001b[1;31m---------------------------------------------------------------------------\u001b[0m",
      "\u001b[1;31mAttributeError\u001b[0m                            Traceback (most recent call last)",
      "Input \u001b[1;32mIn [5]\u001b[0m, in \u001b[0;36m<cell line: 1>\u001b[1;34m()\u001b[0m\n\u001b[1;32m----> 1\u001b[0m \u001b[43ms1\u001b[49m\u001b[38;5;241;43m.\u001b[39;49m\u001b[43mprintInfo\u001b[49m\u001b[43m(\u001b[49m\u001b[43m)\u001b[49m\n",
      "Input \u001b[1;32mIn [3]\u001b[0m, in \u001b[0;36mStudent.printInfo\u001b[1;34m(self)\u001b[0m\n\u001b[0;32m     25\u001b[0m \u001b[38;5;28mprint\u001b[39m(\u001b[38;5;124m'\u001b[39m\u001b[38;5;124mBIOLOGY    : \u001b[39m\u001b[38;5;124m'\u001b[39m, \u001b[38;5;28mself\u001b[39m\u001b[38;5;241m.\u001b[39mmarks[\u001b[38;5;124m'\u001b[39m\u001b[38;5;124mbio\u001b[39m\u001b[38;5;124m'\u001b[39m])\n\u001b[0;32m     26\u001b[0m \u001b[38;5;28mprint\u001b[39m(\u001b[38;5;124m'\u001b[39m\u001b[38;5;124m-\u001b[39m\u001b[38;5;124m'\u001b[39m\u001b[38;5;241m*\u001b[39m\u001b[38;5;241m50\u001b[39m)\n\u001b[1;32m---> 27\u001b[0m \u001b[38;5;28mprint\u001b[39m(\u001b[38;5;124m'\u001b[39m\u001b[38;5;124mAVERAGE    : \u001b[39m\u001b[38;5;124m'\u001b[39m, \u001b[38;5;28;43mself\u001b[39;49m\u001b[38;5;241;43m.\u001b[39;49m\u001b[43mavg\u001b[49m)\n",
      "\u001b[1;31mAttributeError\u001b[0m: 'Student' object has no attribute 'avg'"
     ]
    }
   ],
   "source": [
    "s1.printInfo()"
   ]
  },
  {
   "cell_type": "code",
   "execution_count": 6,
   "id": "7ba78e59",
   "metadata": {},
   "outputs": [],
   "source": [
    "s1.calcAverage()"
   ]
  },
  {
   "cell_type": "code",
   "execution_count": 7,
   "id": "c833a592",
   "metadata": {},
   "outputs": [
    {
     "name": "stdout",
     "output_type": "stream",
     "text": [
      "--------------------------------------------------\n",
      "NAME     :  \n",
      "AGE      :  0\n",
      "ROLL NO. :  000000\n",
      "CLASS    :  \n",
      "--------------------------------------------------\n",
      "PHYSICS    :  0\n",
      "CHEMISTRY  :  0\n",
      "MATHS      :  0\n",
      "BIOLOGY    :  0\n",
      "--------------------------------------------------\n",
      "AVERAGE    :  0.0\n"
     ]
    }
   ],
   "source": [
    "s1.printInfo()"
   ]
  },
  {
   "cell_type": "markdown",
   "id": "c1d16d03",
   "metadata": {},
   "source": [
    "##### Therefore, initialize all variables in the constructor"
   ]
  },
  {
   "cell_type": "code",
   "execution_count": 19,
   "id": "ed046259",
   "metadata": {},
   "outputs": [],
   "source": [
    "class Student:\n",
    "    \n",
    "    nstudents = 0\n",
    "    \n",
    "    # Attributes\n",
    "    def __init__(self, name='', grade='', r='000000'):\n",
    "        self.name = name\n",
    "        self.grade = grade\n",
    "        self.age = 0\n",
    "        self.rollno = r\n",
    "        self.marks = {'phy':0, 'chem':0, 'math':0, 'bio':0}\n",
    "        self.avg = 0\n",
    "        Student.nstudents += 1\n",
    "    \n",
    "    # Functions\n",
    "    def printInfo(self):\n",
    "        print(self)\n",
    "        print('-'*50)\n",
    "        print('NAME     : ', self.name)\n",
    "        print('AGE      : ', self.age)\n",
    "        print('ROLL NO. : ', self.rollno)\n",
    "        print('CLASS    : ', self.grade)\n",
    "        print('-'*50)\n",
    "        print('PHYSICS    : ', self.marks['phy'])\n",
    "        print('CHEMISTRY  : ', self.marks['chem'])\n",
    "        print('MATHS      : ', self.marks['math'])\n",
    "        print('BIOLOGY    : ', self.marks['bio'])\n",
    "        print('-'*50)\n",
    "        print('AVERAGE    : ', self.avg)\n",
    "        \n",
    "    \n",
    "    def calcAverage(self):\n",
    "        self.avg = sum(self.marks.values())/4;\n",
    "    \n",
    "    def setMarks(self, sub, marks):\n",
    "        if sub in self.marks.keys():\n",
    "            self.marks[sub] = marks\n",
    "            \n",
    "    def setAttrib(self, attr, value):\n",
    "        if attr in ['name', 'age', 'grade', 'rollno']:\n",
    "            if(attr == 'name'):\n",
    "                self.name = value\n",
    "            elif(attr == 'age'):\n",
    "                self.age = value\n",
    "            elif(attr == 'grade'):\n",
    "                self.grade = value\n",
    "            else:\n",
    "                self.rollno = value"
   ]
  },
  {
   "cell_type": "code",
   "execution_count": 23,
   "id": "3a600c03",
   "metadata": {},
   "outputs": [
    {
     "data": {
      "text/plain": [
       "<__main__.Student at 0x1922f57cee0>"
      ]
     },
     "execution_count": 23,
     "metadata": {},
     "output_type": "execute_result"
    }
   ],
   "source": [
    "s = Student('Raj', '5', 'SV0012')\n",
    "s"
   ]
  },
  {
   "cell_type": "code",
   "execution_count": 24,
   "id": "f86a0e61",
   "metadata": {},
   "outputs": [
    {
     "name": "stdout",
     "output_type": "stream",
     "text": [
      "<__main__.Student object at 0x000001922F57CEE0>\n",
      "--------------------------------------------------\n",
      "NAME     :  Raj\n",
      "AGE      :  0\n",
      "ROLL NO. :  SV0012\n",
      "CLASS    :  5\n",
      "--------------------------------------------------\n",
      "PHYSICS    :  0\n",
      "CHEMISTRY  :  0\n",
      "MATHS      :  0\n",
      "BIOLOGY    :  0\n",
      "--------------------------------------------------\n",
      "AVERAGE    :  0\n"
     ]
    }
   ],
   "source": [
    "s.printInfo()"
   ]
  },
  {
   "cell_type": "code",
   "execution_count": 12,
   "id": "659619cf",
   "metadata": {},
   "outputs": [],
   "source": [
    "s.setAttrib('age', '10')"
   ]
  },
  {
   "cell_type": "code",
   "execution_count": 13,
   "id": "ea3ba167",
   "metadata": {},
   "outputs": [
    {
     "name": "stdout",
     "output_type": "stream",
     "text": [
      "--------------------------------------------------\n",
      "NAME     :  Raj\n",
      "AGE      :  10\n",
      "ROLL NO. :  SV0012\n",
      "CLASS    :  5\n",
      "--------------------------------------------------\n",
      "PHYSICS    :  0\n",
      "CHEMISTRY  :  0\n",
      "MATHS      :  0\n",
      "BIOLOGY    :  0\n",
      "--------------------------------------------------\n",
      "AVERAGE    :  0\n"
     ]
    }
   ],
   "source": [
    "s.printInfo()"
   ]
  },
  {
   "cell_type": "code",
   "execution_count": 15,
   "id": "3337a2c5",
   "metadata": {},
   "outputs": [],
   "source": [
    "s.setMarks('phy', 89)\n",
    "s.setMarks('chem', 69)\n",
    "s.setMarks('math', 88)\n",
    "s.setMarks('bio', 99)"
   ]
  },
  {
   "cell_type": "code",
   "execution_count": 16,
   "id": "42a0fcb9",
   "metadata": {},
   "outputs": [
    {
     "name": "stdout",
     "output_type": "stream",
     "text": [
      "--------------------------------------------------\n",
      "NAME     :  Raj\n",
      "AGE      :  10\n",
      "ROLL NO. :  SV0012\n",
      "CLASS    :  5\n",
      "--------------------------------------------------\n",
      "PHYSICS    :  89\n",
      "CHEMISTRY  :  69\n",
      "MATHS      :  88\n",
      "BIOLOGY    :  99\n",
      "--------------------------------------------------\n",
      "AVERAGE    :  0\n"
     ]
    }
   ],
   "source": [
    "s.printInfo()"
   ]
  },
  {
   "cell_type": "code",
   "execution_count": 17,
   "id": "f071194e",
   "metadata": {},
   "outputs": [],
   "source": [
    "s.calcAverage()"
   ]
  },
  {
   "cell_type": "code",
   "execution_count": 18,
   "id": "e44193f9",
   "metadata": {},
   "outputs": [
    {
     "name": "stdout",
     "output_type": "stream",
     "text": [
      "--------------------------------------------------\n",
      "NAME     :  Raj\n",
      "AGE      :  10\n",
      "ROLL NO. :  SV0012\n",
      "CLASS    :  5\n",
      "--------------------------------------------------\n",
      "PHYSICS    :  89\n",
      "CHEMISTRY  :  69\n",
      "MATHS      :  88\n",
      "BIOLOGY    :  99\n",
      "--------------------------------------------------\n",
      "AVERAGE    :  86.25\n"
     ]
    }
   ],
   "source": [
    "s.printInfo()"
   ]
  },
  {
   "cell_type": "markdown",
   "id": "05f5c399",
   "metadata": {},
   "source": [
    "### 2. Inheritance"
   ]
  },
  {
   "cell_type": "code",
   "execution_count": 25,
   "id": "94c04a3d",
   "metadata": {},
   "outputs": [],
   "source": [
    "class extStudent(Student):\n",
    "    pass\n"
   ]
  },
  {
   "cell_type": "code",
   "execution_count": 26,
   "id": "9dc0bc59",
   "metadata": {},
   "outputs": [
    {
     "data": {
      "text/plain": [
       "<__main__.extStudent at 0x1922f57c820>"
      ]
     },
     "execution_count": 26,
     "metadata": {},
     "output_type": "execute_result"
    }
   ],
   "source": [
    "s = extStudent('Raj', '5', 'SV0012')\n",
    "s"
   ]
  },
  {
   "cell_type": "code",
   "execution_count": 27,
   "id": "76de6b8e",
   "metadata": {},
   "outputs": [
    {
     "name": "stdout",
     "output_type": "stream",
     "text": [
      "<__main__.extStudent object at 0x000001922F57C820>\n",
      "--------------------------------------------------\n",
      "NAME     :  Raj\n",
      "AGE      :  0\n",
      "ROLL NO. :  SV0012\n",
      "CLASS    :  5\n",
      "--------------------------------------------------\n",
      "PHYSICS    :  0\n",
      "CHEMISTRY  :  0\n",
      "MATHS      :  0\n",
      "BIOLOGY    :  0\n",
      "--------------------------------------------------\n",
      "AVERAGE    :  0\n"
     ]
    }
   ],
   "source": [
    "s.printInfo()"
   ]
  },
  {
   "cell_type": "code",
   "execution_count": 29,
   "id": "859d5bde",
   "metadata": {},
   "outputs": [],
   "source": [
    "class newStudent(Student):\n",
    "    def __init__(self):\n",
    "        super().__init__()\n",
    "        self.rank = 0\n",
    "        self.hobbies = []\n",
    "    \n",
    "    def setRank(self, value):\n",
    "        self.rank = value\n",
    "        \n",
    "    def setHobby(self, value):\n",
    "        self.hobbies.append(value)\n",
    "        \n",
    "    def removeHobby(self, value):\n",
    "        if value in self.hobbies:\n",
    "            self.hobbies.remove(value)"
   ]
  },
  {
   "cell_type": "code",
   "execution_count": 30,
   "id": "7faad49f",
   "metadata": {},
   "outputs": [],
   "source": [
    "se = newStudent()"
   ]
  },
  {
   "cell_type": "code",
   "execution_count": 31,
   "id": "b6125614",
   "metadata": {},
   "outputs": [
    {
     "name": "stdout",
     "output_type": "stream",
     "text": [
      "<__main__.newStudent object at 0x000001922F57C6A0>\n",
      "--------------------------------------------------\n",
      "NAME     :  \n",
      "AGE      :  0\n",
      "ROLL NO. :  000000\n",
      "CLASS    :  \n",
      "--------------------------------------------------\n",
      "PHYSICS    :  0\n",
      "CHEMISTRY  :  0\n",
      "MATHS      :  0\n",
      "BIOLOGY    :  0\n",
      "--------------------------------------------------\n",
      "AVERAGE    :  0\n"
     ]
    }
   ],
   "source": [
    "se.printInfo()"
   ]
  },
  {
   "cell_type": "code",
   "execution_count": 32,
   "id": "bce16727",
   "metadata": {},
   "outputs": [],
   "source": [
    "class newStudent(Student):\n",
    "    def __init__(self, name='', grade='', rollno=''):\n",
    "        super().__init__(name, grade, rollno)\n",
    "        self.rank = 0\n",
    "        self.hobbies = []\n",
    "        \n",
    "    def printInfo(self):\n",
    "        super().printInfo()\n",
    "        print(\"RANK     ----> \", self.rank)\n",
    "        print(\"HOBBIES  ----> \", self.hobbies)\n",
    "    \n",
    "    def setRank(self, value):\n",
    "        self.rank = value\n",
    "        \n",
    "    def setHobby(self, value):\n",
    "        self.hobbies.append(value)\n",
    "        \n",
    "    def removeHobby(self, value):\n",
    "        if value in self.hobbies:\n",
    "            self.hobbies.remove(value)"
   ]
  },
  {
   "cell_type": "code",
   "execution_count": 33,
   "id": "28151bce",
   "metadata": {},
   "outputs": [
    {
     "name": "stdout",
     "output_type": "stream",
     "text": [
      "<__main__.newStudent object at 0x000001922F5894C0>\n",
      "--------------------------------------------------\n",
      "NAME     :  Anil\n",
      "AGE      :  0\n",
      "ROLL NO. :  NE11927847\n",
      "CLASS    :  10\n",
      "--------------------------------------------------\n",
      "PHYSICS    :  0\n",
      "CHEMISTRY  :  0\n",
      "MATHS      :  0\n",
      "BIOLOGY    :  0\n",
      "--------------------------------------------------\n",
      "AVERAGE    :  0\n",
      "RANK     ---->  0\n",
      "HOBBIES  ---->  []\n"
     ]
    }
   ],
   "source": [
    "ne = newStudent(\"Anil\", '10', 'NE11927847')\n",
    "ne.printInfo()"
   ]
  },
  {
   "cell_type": "code",
   "execution_count": 34,
   "id": "62a75337",
   "metadata": {},
   "outputs": [],
   "source": [
    "ne.setRank(4)\n",
    "ne.setHobby('Cricket')\n",
    "ne.setHobby('Movies')"
   ]
  },
  {
   "cell_type": "code",
   "execution_count": 35,
   "id": "ea9f5a04",
   "metadata": {},
   "outputs": [
    {
     "name": "stdout",
     "output_type": "stream",
     "text": [
      "<__main__.newStudent object at 0x000001922F5894C0>\n",
      "--------------------------------------------------\n",
      "NAME     :  Anil\n",
      "AGE      :  0\n",
      "ROLL NO. :  NE11927847\n",
      "CLASS    :  10\n",
      "--------------------------------------------------\n",
      "PHYSICS    :  0\n",
      "CHEMISTRY  :  0\n",
      "MATHS      :  0\n",
      "BIOLOGY    :  0\n",
      "--------------------------------------------------\n",
      "AVERAGE    :  0\n",
      "RANK     ---->  4\n",
      "HOBBIES  ---->  ['Cricket', 'Movies']\n"
     ]
    }
   ],
   "source": [
    "ne.printInfo()"
   ]
  },
  {
   "cell_type": "code",
   "execution_count": 36,
   "id": "2ca4a225",
   "metadata": {},
   "outputs": [
    {
     "data": {
      "text/plain": [
       "6"
      ]
     },
     "execution_count": 36,
     "metadata": {},
     "output_type": "execute_result"
    }
   ],
   "source": [
    "Student.nstudents"
   ]
  },
  {
   "cell_type": "markdown",
   "id": "9cf7b59a",
   "metadata": {},
   "source": [
    "### 3. Polymorphism"
   ]
  },
  {
   "cell_type": "code",
   "execution_count": 47,
   "id": "a45f3284",
   "metadata": {},
   "outputs": [],
   "source": [
    "#obj = s \n",
    "obj = ne"
   ]
  },
  {
   "cell_type": "code",
   "execution_count": 48,
   "id": "c64f44ac",
   "metadata": {},
   "outputs": [
    {
     "name": "stdout",
     "output_type": "stream",
     "text": [
      "<__main__.newStudent object at 0x000001922F5894C0>\n",
      "--------------------------------------------------\n",
      "NAME     :  Anil\n",
      "AGE      :  0\n",
      "ROLL NO. :  NE11927847\n",
      "CLASS    :  10\n",
      "--------------------------------------------------\n",
      "PHYSICS    :  0\n",
      "CHEMISTRY  :  0\n",
      "MATHS      :  0\n",
      "BIOLOGY    :  0\n",
      "--------------------------------------------------\n",
      "AVERAGE    :  0\n",
      "RANK     ---->  4\n",
      "HOBBIES  ---->  ['Cricket', 'Movies']\n"
     ]
    }
   ],
   "source": [
    "obj.printInfo()"
   ]
  },
  {
   "cell_type": "markdown",
   "id": "4c13d64a",
   "metadata": {},
   "source": [
    "### Exercise"
   ]
  },
  {
   "cell_type": "markdown",
   "id": "745285e7",
   "metadata": {},
   "source": [
    "Create a Employee class\n",
    "with name, age, designation, company, salary and add appropiate member functions along with calcTax(percentage) should automatically be called when salary is updated\n",
    "Test the class\n",
    "\n",
    "Extend the class to have address, phone\n",
    "Add appropriate member functions and update parent class functions where applicable\n",
    "Test the extended class\n"
   ]
  }
 ],
 "metadata": {
  "kernelspec": {
   "display_name": "Python 3 (ipykernel)",
   "language": "python",
   "name": "python3"
  },
  "language_info": {
   "codemirror_mode": {
    "name": "ipython",
    "version": 3
   },
   "file_extension": ".py",
   "mimetype": "text/x-python",
   "name": "python",
   "nbconvert_exporter": "python",
   "pygments_lexer": "ipython3",
   "version": "3.9.12"
  }
 },
 "nbformat": 4,
 "nbformat_minor": 5
}
